{
 "cells": [
  {
   "cell_type": "markdown",
   "metadata": {},
   "source": [
    "## Detroit Census Appeal Work\n",
    "### Finding correlations between datasets in Detroit\n",
    "- created: 11-22-21 by GTP\n",
    "- updated: 2-8-22 by GTP\n",
    "- notes: we want to find correlations between census data, steve's survey, voter registration data, etc\n",
    "- see https://docs.google.com/document/d/1sp19lFNQ63NEvL43jJZsgzTasI31M6Fnw7XSgrcG9h0/edit for additional notes\n",
    "- see https://drive.google.com/drive/folders/1UZmf4j9Pi7P7K_R3NMBjPMTzRbUNM-rV for data"
   ]
  },
  {
   "cell_type": "code",
   "execution_count": 1,
   "metadata": {},
   "outputs": [],
   "source": [
    "#import data libraries\n",
    "import pandas as pd\n",
    "import numpy as np\n",
    "import matplotlib.pyplot as plt\n",
    "import seaborn as sns\n",
    "import math\n",
    "import numbers\n",
    "import decimal\n",
    "#import data science packages\n",
    "import scipy\n",
    "import scipy.stats as stats\n",
    "\n",
    "np.random.seed(222)\n",
    "%matplotlib inline"
   ]
  },
  {
   "cell_type": "code",
   "execution_count": 2,
   "metadata": {},
   "outputs": [],
   "source": [
    "#import geographic analysis libraries\n",
    "import geopandas as gpd\n",
    "from geopandas import GeoDataFrame\n",
    "import shapely as shp\n",
    "from shapely.geometry import Point\n",
    "from shapely.geometry import shape\n",
    "import os\n",
    "import re\n",
    "from fiona.crs import from_epsg\n",
    "import pysal as ps"
   ]
  },
  {
   "cell_type": "code",
   "execution_count": 3,
   "metadata": {},
   "outputs": [],
   "source": [
    "#import machine learning / regression libraries\n",
    "from sklearn.ensemble import RandomForestRegressor\n",
    "from sklearn.ensemble import RandomForestClassifier\n",
    "from sklearn.model_selection import train_test_split\n",
    "from sklearn import tree\n",
    "from sklearn.model_selection import GridSearchCV\n",
    "from sklearn.linear_model import LinearRegression\n",
    "from sklearn.linear_model import LassoCV\n",
    "from sklearn.linear_model import RidgeCV\n",
    "from sklearn.metrics import mean_squared_error\n",
    "from sklearn.linear_model import LogisticRegression\n",
    "import statsmodels.api as sm"
   ]
  },
  {
   "cell_type": "code",
   "execution_count": 4,
   "metadata": {},
   "outputs": [],
   "source": [
    "#set crs for entire analysis\n",
    "crs = {'init': 'epsg:4326'}"
   ]
  },
  {
   "cell_type": "code",
   "execution_count": 5,
   "metadata": {},
   "outputs": [],
   "source": [
    "rf_param_grid = {'max_depth': [10, 20, 30], 'n_estimators': np.arange(401,602,100)}"
   ]
  },
  {
   "cell_type": "code",
   "execution_count": 6,
   "metadata": {},
   "outputs": [],
   "source": [
    "pd.options.display.max_columns = 300\n",
    "pd.options.display.max_rows = 100"
   ]
  },
  {
   "cell_type": "markdown",
   "metadata": {},
   "source": [
    "## Read in Data"
   ]
  },
  {
   "cell_type": "markdown",
   "metadata": {},
   "source": [
    "### Survey Done in 2020\n",
    "- door knocking done by the city"
   ]
  },
  {
   "cell_type": "code",
   "execution_count": 7,
   "metadata": {},
   "outputs": [
    {
     "name": "stderr",
     "output_type": "stream",
     "text": [
      "/Users/geoffperrin/opt/anaconda3/lib/python3.8/site-packages/IPython/core/interactiveshell.py:3071: DtypeWarning: Columns (1,3,4,5,6,7,8,13) have mixed types.Specify dtype option on import or set low_memory=False.\n",
      "  has_raised = await self.run_ast_nodes(code_ast.body, cell_name,\n"
     ]
    }
   ],
   "source": [
    "survey_df = pd.read_csv('../data/All Doors FINAL Redacted 11-1-21.csv')"
   ]
  },
  {
   "cell_type": "code",
   "execution_count": 8,
   "metadata": {},
   "outputs": [
    {
     "data": {
      "text/plain": [
       "19106"
      ]
     },
     "execution_count": 8,
     "metadata": {},
     "output_type": "execute_result"
    }
   ],
   "source": [
    "len(survey_df[survey_df['TRACTCE10'].isna()])"
   ]
  },
  {
   "cell_type": "code",
   "execution_count": 9,
   "metadata": {},
   "outputs": [
    {
     "data": {
      "text/plain": [
       "0.057172610052636144"
      ]
     },
     "execution_count": 9,
     "metadata": {},
     "output_type": "execute_result"
    }
   ],
   "source": [
    "len(survey_df[survey_df['TRACTCE10'].isna()])/len(survey_df)"
   ]
  },
  {
   "cell_type": "code",
   "execution_count": 10,
   "metadata": {},
   "outputs": [],
   "source": [
    "def convert_tractce(tract_number):\n",
    "    try:\n",
    "        return str(int(tract_number))\n",
    "    except:\n",
    "        return \"tract number n/a\""
   ]
  },
  {
   "cell_type": "code",
   "execution_count": 11,
   "metadata": {},
   "outputs": [],
   "source": [
    "survey_df['TRACTCE10'] = survey_df['TRACTCE10'].apply(convert_tractce)"
   ]
  },
  {
   "cell_type": "code",
   "execution_count": 12,
   "metadata": {},
   "outputs": [],
   "source": [
    "def get_survey_tract(census_tract):\n",
    "    try:\n",
    "        return str(int(census_tract))\n",
    "    except:\n",
    "        return \"\""
   ]
  },
  {
   "cell_type": "code",
   "execution_count": 13,
   "metadata": {},
   "outputs": [],
   "source": [
    "def get_census_tract(census_tract_og):\n",
    "    x = str(census_tract_og)\n",
    "    return x[-6:-2]"
   ]
  },
  {
   "cell_type": "code",
   "execution_count": 14,
   "metadata": {},
   "outputs": [],
   "source": [
    "survey_df['tract'] = survey_df['CENSUS TRACT'].apply(get_survey_tract)"
   ]
  },
  {
   "cell_type": "code",
   "execution_count": 15,
   "metadata": {},
   "outputs": [],
   "source": [
    "### filter out missing tracts\n",
    "survey_df = survey_df[survey_df['tract']!=\"\"]"
   ]
  },
  {
   "cell_type": "code",
   "execution_count": 16,
   "metadata": {},
   "outputs": [
    {
     "data": {
      "text/plain": [
       "315075"
      ]
     },
     "execution_count": 16,
     "metadata": {},
     "output_type": "execute_result"
    }
   ],
   "source": [
    "len(survey_df)"
   ]
  },
  {
   "cell_type": "code",
   "execution_count": 17,
   "metadata": {},
   "outputs": [],
   "source": [
    "survey_df['vacant_dummy'] = survey_df['Occupancy Status:'].apply(lambda x: 1 if x == \"vacant\" else 0)\n",
    "survey_df['occupied_dummy'] = survey_df['Occupancy Status:'].apply(lambda x: 1 if x == \"occupied\" else 0)"
   ]
  },
  {
   "cell_type": "code",
   "execution_count": 18,
   "metadata": {},
   "outputs": [
    {
     "name": "stderr",
     "output_type": "stream",
     "text": [
      "<ipython-input-18-6dfe7bbbd5cd>:1: FutureWarning: Indexing with multiple keys (implicitly converted to a tuple of keys) will be deprecated, use a list instead.\n",
      "  survey_df_by_census = survey_df.groupby(['tract'], as_index=False)['vacant_dummy', 'occupied_dummy'].mean()\n"
     ]
    }
   ],
   "source": [
    "survey_df_by_census = survey_df.groupby(['tract'], as_index=False)['vacant_dummy', 'occupied_dummy'].mean()"
   ]
  },
  {
   "cell_type": "code",
   "execution_count": 19,
   "metadata": {},
   "outputs": [],
   "source": [
    "survey_df_count_by_ct = survey_df.groupby(['tract'], as_index=False)['addr_id'].count()"
   ]
  },
  {
   "cell_type": "code",
   "execution_count": 20,
   "metadata": {},
   "outputs": [],
   "source": [
    "survey_df_count_by_ct.columns = ['tract', 'survey_count']"
   ]
  },
  {
   "cell_type": "markdown",
   "metadata": {},
   "source": [
    "### Census response rate"
   ]
  },
  {
   "cell_type": "code",
   "execution_count": 21,
   "metadata": {},
   "outputs": [],
   "source": [
    "census_response_df = pd.read_csv('../data/2020 Census Response Rate by Tract (2).xlsx - decennialrr2020 (1).csv')"
   ]
  },
  {
   "cell_type": "code",
   "execution_count": 22,
   "metadata": {},
   "outputs": [
    {
     "data": {
      "text/html": [
       "<div>\n",
       "<style scoped>\n",
       "    .dataframe tbody tr th:only-of-type {\n",
       "        vertical-align: middle;\n",
       "    }\n",
       "\n",
       "    .dataframe tbody tr th {\n",
       "        vertical-align: top;\n",
       "    }\n",
       "\n",
       "    .dataframe thead th {\n",
       "        text-align: right;\n",
       "    }\n",
       "</style>\n",
       "<table border=\"1\" class=\"dataframe\">\n",
       "  <thead>\n",
       "    <tr style=\"text-align: right;\">\n",
       "      <th></th>\n",
       "      <th>Tract</th>\n",
       "      <th>Internet Self Response</th>\n",
       "      <th>Total Self Response</th>\n",
       "    </tr>\n",
       "  </thead>\n",
       "  <tbody>\n",
       "    <tr>\n",
       "      <th>0</th>\n",
       "      <td>500100</td>\n",
       "      <td>37.5</td>\n",
       "      <td>61.6</td>\n",
       "    </tr>\n",
       "    <tr>\n",
       "      <th>1</th>\n",
       "      <td>500200</td>\n",
       "      <td>38.9</td>\n",
       "      <td>66.6</td>\n",
       "    </tr>\n",
       "    <tr>\n",
       "      <th>2</th>\n",
       "      <td>500300</td>\n",
       "      <td>26.7</td>\n",
       "      <td>42.4</td>\n",
       "    </tr>\n",
       "    <tr>\n",
       "      <th>3</th>\n",
       "      <td>500400</td>\n",
       "      <td>11.2</td>\n",
       "      <td>20.4</td>\n",
       "    </tr>\n",
       "    <tr>\n",
       "      <th>4</th>\n",
       "      <td>500500</td>\n",
       "      <td>23.3</td>\n",
       "      <td>38.1</td>\n",
       "    </tr>\n",
       "  </tbody>\n",
       "</table>\n",
       "</div>"
      ],
      "text/plain": [
       "    Tract  Internet Self Response  Total Self Response\n",
       "0  500100                    37.5                 61.6\n",
       "1  500200                    38.9                 66.6\n",
       "2  500300                    26.7                 42.4\n",
       "3  500400                    11.2                 20.4\n",
       "4  500500                    23.3                 38.1"
      ]
     },
     "execution_count": 22,
     "metadata": {},
     "output_type": "execute_result"
    }
   ],
   "source": [
    "census_response_df.head(5)"
   ]
  },
  {
   "cell_type": "code",
   "execution_count": 23,
   "metadata": {},
   "outputs": [],
   "source": [
    "census_response_df['tract'] = census_response_df['Tract'].apply(lambda x: str(x)[0:4])"
   ]
  },
  {
   "cell_type": "code",
   "execution_count": 24,
   "metadata": {},
   "outputs": [
    {
     "data": {
      "text/html": [
       "<div>\n",
       "<style scoped>\n",
       "    .dataframe tbody tr th:only-of-type {\n",
       "        vertical-align: middle;\n",
       "    }\n",
       "\n",
       "    .dataframe tbody tr th {\n",
       "        vertical-align: top;\n",
       "    }\n",
       "\n",
       "    .dataframe thead th {\n",
       "        text-align: right;\n",
       "    }\n",
       "</style>\n",
       "<table border=\"1\" class=\"dataframe\">\n",
       "  <thead>\n",
       "    <tr style=\"text-align: right;\">\n",
       "      <th></th>\n",
       "      <th>Tract</th>\n",
       "      <th>Internet Self Response</th>\n",
       "      <th>Total Self Response</th>\n",
       "      <th>tract</th>\n",
       "    </tr>\n",
       "  </thead>\n",
       "  <tbody>\n",
       "    <tr>\n",
       "      <th>0</th>\n",
       "      <td>500100</td>\n",
       "      <td>37.5</td>\n",
       "      <td>61.6</td>\n",
       "      <td>5001</td>\n",
       "    </tr>\n",
       "    <tr>\n",
       "      <th>1</th>\n",
       "      <td>500200</td>\n",
       "      <td>38.9</td>\n",
       "      <td>66.6</td>\n",
       "      <td>5002</td>\n",
       "    </tr>\n",
       "    <tr>\n",
       "      <th>2</th>\n",
       "      <td>500300</td>\n",
       "      <td>26.7</td>\n",
       "      <td>42.4</td>\n",
       "      <td>5003</td>\n",
       "    </tr>\n",
       "    <tr>\n",
       "      <th>3</th>\n",
       "      <td>500400</td>\n",
       "      <td>11.2</td>\n",
       "      <td>20.4</td>\n",
       "      <td>5004</td>\n",
       "    </tr>\n",
       "    <tr>\n",
       "      <th>4</th>\n",
       "      <td>500500</td>\n",
       "      <td>23.3</td>\n",
       "      <td>38.1</td>\n",
       "      <td>5005</td>\n",
       "    </tr>\n",
       "  </tbody>\n",
       "</table>\n",
       "</div>"
      ],
      "text/plain": [
       "    Tract  Internet Self Response  Total Self Response tract\n",
       "0  500100                    37.5                 61.6  5001\n",
       "1  500200                    38.9                 66.6  5002\n",
       "2  500300                    26.7                 42.4  5003\n",
       "3  500400                    11.2                 20.4  5004\n",
       "4  500500                    23.3                 38.1  5005"
      ]
     },
     "execution_count": 24,
     "metadata": {},
     "output_type": "execute_result"
    }
   ],
   "source": [
    "census_response_df.head()"
   ]
  },
  {
   "cell_type": "code",
   "execution_count": 25,
   "metadata": {},
   "outputs": [],
   "source": [
    "census_response_df = census_response_df[['tract', 'Internet Self Response', 'Total Self Response']]\n",
    "census_response_df.columns = ['tract', 'internet_response_census', 'total_self_response_census']"
   ]
  },
  {
   "cell_type": "markdown",
   "metadata": {},
   "source": [
    "## Vax status\n",
    "- these census numbers are from 2019 ACS - Steve will give updated data that is 2020 census\n",
    "- these are using CT10s - I would love to see something that has CT20s"
   ]
  },
  {
   "cell_type": "code",
   "execution_count": 26,
   "metadata": {},
   "outputs": [],
   "source": [
    "vax_nov2021_df = pd.read_excel('../data/Vaccine Coverage by Census Tract as of 11.30.2021.xlsx')"
   ]
  },
  {
   "cell_type": "code",
   "execution_count": 27,
   "metadata": {},
   "outputs": [],
   "source": [
    "vax_nov2021_df['tract'] = vax_nov2021_df['Census Tract'].apply(get_census_tract)"
   ]
  },
  {
   "cell_type": "code",
   "execution_count": 28,
   "metadata": {},
   "outputs": [],
   "source": [
    "vax_nov2021_df_small = vax_nov2021_df[['tract', 'SVI', '% Received 1 or More Dose (Ages: 16+)', '% Fully Vaccinated (Ages: 16+)',\\\n",
    "                                       '% Received 1 or More Dose (Ages:5+)', '% Fully Vaccinated (Ages:5+)']]"
   ]
  },
  {
   "cell_type": "code",
   "execution_count": 29,
   "metadata": {},
   "outputs": [],
   "source": [
    "vax_nov2021_df_small.columns = ['tract', 'SVI', 'pct_1_or_more_dose_16', 'pct_full_vaxed_16', 'pct_1_or_more_dose_5', 'pct_full_faxed_5']"
   ]
  },
  {
   "cell_type": "markdown",
   "metadata": {},
   "source": [
    "## Voter Files\n",
    "- need to merge on census tract to this...?"
   ]
  },
  {
   "cell_type": "code",
   "execution_count": 30,
   "metadata": {},
   "outputs": [],
   "source": [
    "def get_census_tract_from_block(census_tract_og):\n",
    "    x = str(census_tract_og)\n",
    "    return x[0:4]"
   ]
  },
  {
   "cell_type": "code",
   "execution_count": 31,
   "metadata": {},
   "outputs": [],
   "source": [
    "voter_nov_2020_df = pd.read_excel('../data/November 2020 General List of Voters.xlsx')"
   ]
  },
  {
   "cell_type": "code",
   "execution_count": 32,
   "metadata": {},
   "outputs": [],
   "source": [
    "voter_nov_2020_gdf = gpd.read_file('../data/Voter Data/Nov20.shp')"
   ]
  },
  {
   "cell_type": "code",
   "execution_count": 33,
   "metadata": {},
   "outputs": [],
   "source": [
    "voter_nov_2020_gdf['tract'] = voter_nov_2020_gdf['TRACTCE20'].apply(get_census_tract)"
   ]
  },
  {
   "cell_type": "code",
   "execution_count": 34,
   "metadata": {},
   "outputs": [],
   "source": [
    "voters_by_tract = voter_nov_2020_gdf.groupby(['tract'], as_index=False)['Join_Count'].count()"
   ]
  },
  {
   "cell_type": "code",
   "execution_count": 35,
   "metadata": {},
   "outputs": [],
   "source": [
    "voters_by_tract.columns = ['tract', 'voters_in_nov2020']"
   ]
  },
  {
   "cell_type": "markdown",
   "metadata": {},
   "source": [
    "## Census Data\n",
    "- I want to look at population / income / % black...?\n",
    "- source: https://data.census.gov/cedsci/"
   ]
  },
  {
   "cell_type": "markdown",
   "metadata": {},
   "source": [
    "### Population 2010\n",
    "- source: https://data.census.gov/cedsci/all?g=0500000US26163%241400000&y=2010&d=DEC%20Summary%20File%201"
   ]
  },
  {
   "cell_type": "code",
   "execution_count": 36,
   "metadata": {},
   "outputs": [],
   "source": [
    "pop_2010_df = pd.read_csv('../data/DECENNIALSF12010.P1_data_with_overlays_2021-12-05T220113.csv', skiprows=1)"
   ]
  },
  {
   "cell_type": "code",
   "execution_count": 37,
   "metadata": {},
   "outputs": [],
   "source": [
    "pop_2010_df['tract'] = pop_2010_df['id'].apply(get_census_tract)"
   ]
  },
  {
   "cell_type": "code",
   "execution_count": 38,
   "metadata": {},
   "outputs": [],
   "source": [
    "def clean_pop_total(x):\n",
    "    pop_wout_parens = x.split('(')[0]\n",
    "    return pop_wout_parens"
   ]
  },
  {
   "cell_type": "code",
   "execution_count": 39,
   "metadata": {},
   "outputs": [],
   "source": [
    "pop_2010_df['Total'] = pop_2010_df['Total'].apply(clean_pop_total)"
   ]
  },
  {
   "cell_type": "code",
   "execution_count": 40,
   "metadata": {},
   "outputs": [],
   "source": [
    "pop_2010_df_final = pop_2010_df[['tract', 'Total']]\n",
    "pop_2010_df_final.columns = ['tract', 'tot_pop_2010']"
   ]
  },
  {
   "cell_type": "code",
   "execution_count": 41,
   "metadata": {},
   "outputs": [
    {
     "data": {
      "text/html": [
       "<div>\n",
       "<style scoped>\n",
       "    .dataframe tbody tr th:only-of-type {\n",
       "        vertical-align: middle;\n",
       "    }\n",
       "\n",
       "    .dataframe tbody tr th {\n",
       "        vertical-align: top;\n",
       "    }\n",
       "\n",
       "    .dataframe thead th {\n",
       "        text-align: right;\n",
       "    }\n",
       "</style>\n",
       "<table border=\"1\" class=\"dataframe\">\n",
       "  <thead>\n",
       "    <tr style=\"text-align: right;\">\n",
       "      <th></th>\n",
       "      <th>tract</th>\n",
       "      <th>tot_pop_2010</th>\n",
       "    </tr>\n",
       "  </thead>\n",
       "  <tbody>\n",
       "    <tr>\n",
       "      <th>259</th>\n",
       "      <td>5430</td>\n",
       "      <td>1814</td>\n",
       "    </tr>\n",
       "  </tbody>\n",
       "</table>\n",
       "</div>"
      ],
      "text/plain": [
       "    tract tot_pop_2010\n",
       "259  5430         1814"
      ]
     },
     "execution_count": 41,
     "metadata": {},
     "output_type": "execute_result"
    }
   ],
   "source": [
    "pop_2010_df_final[pop_2010_df_final['tract']=='5430']"
   ]
  },
  {
   "cell_type": "markdown",
   "metadata": {},
   "source": [
    "### Income / Housing Units\n",
    "- source: https://data.census.gov/cedsci/all?g=0500000US26163%241400000&y=2010&d=DEC%20Summary%20File%201\n",
    "- table S1902"
   ]
  },
  {
   "cell_type": "code",
   "execution_count": 42,
   "metadata": {},
   "outputs": [],
   "source": [
    "income_2019_df = pd.read_csv('../data/ACSST5Y2019.S1902_data_with_overlays_2021-12-05T222015.csv', skiprows=1)"
   ]
  },
  {
   "cell_type": "code",
   "execution_count": 43,
   "metadata": {},
   "outputs": [],
   "source": [
    "income_2019_df = income_2019_df[['id', 'Estimate!!Number!!HOUSEHOLD INCOME!!All households', 'Estimate!!Mean income (dollars)!!HOUSEHOLD INCOME!!All households']]"
   ]
  },
  {
   "cell_type": "code",
   "execution_count": 44,
   "metadata": {},
   "outputs": [],
   "source": [
    "income_2019_df['tract'] = income_2019_df['id'].apply(get_census_tract)"
   ]
  },
  {
   "cell_type": "code",
   "execution_count": 45,
   "metadata": {},
   "outputs": [],
   "source": [
    "income_2019_df = income_2019_df[['tract', 'Estimate!!Number!!HOUSEHOLD INCOME!!All households', 'Estimate!!Mean income (dollars)!!HOUSEHOLD INCOME!!All households']]\n",
    "income_2019_df.columns = ['tract', 'count_hh_2019', 'mean_hh_income_2019']"
   ]
  },
  {
   "cell_type": "code",
   "execution_count": 46,
   "metadata": {},
   "outputs": [
    {
     "data": {
      "text/html": [
       "<div>\n",
       "<style scoped>\n",
       "    .dataframe tbody tr th:only-of-type {\n",
       "        vertical-align: middle;\n",
       "    }\n",
       "\n",
       "    .dataframe tbody tr th {\n",
       "        vertical-align: top;\n",
       "    }\n",
       "\n",
       "    .dataframe thead th {\n",
       "        text-align: right;\n",
       "    }\n",
       "</style>\n",
       "<table border=\"1\" class=\"dataframe\">\n",
       "  <thead>\n",
       "    <tr style=\"text-align: right;\">\n",
       "      <th></th>\n",
       "      <th>tract</th>\n",
       "      <th>count_hh_2019</th>\n",
       "      <th>mean_hh_income_2019</th>\n",
       "    </tr>\n",
       "  </thead>\n",
       "  <tbody>\n",
       "  </tbody>\n",
       "</table>\n",
       "</div>"
      ],
      "text/plain": [
       "Empty DataFrame\n",
       "Columns: [tract, count_hh_2019, mean_hh_income_2019]\n",
       "Index: []"
      ]
     },
     "execution_count": 46,
     "metadata": {},
     "output_type": "execute_result"
    }
   ],
   "source": [
    "income_2019_df[income_2019_df['tract']=='5056']"
   ]
  },
  {
   "cell_type": "markdown",
   "metadata": {},
   "source": [
    "### Citizenship Status - 2019\n",
    "- source: https://data.census.gov/cedsci/table?q=Citizenship&g=0500000US26163%241400000&y=2019&tid=ACSDT5Y2019.B05001&loc=42.2400,-83.1769,z10.0777\n",
    "- table B05003\n",
    "- needed for the denominator of # of people who voted in november 2020"
   ]
  },
  {
   "cell_type": "code",
   "execution_count": 47,
   "metadata": {},
   "outputs": [],
   "source": [
    "citizen_2019_df = pd.read_csv('../data/ACSDT5Y2019.B05003_2022-01-25T195654/ACSDT5Y2019.B05003_data_with_overlays_2022-01-25T195636.csv', skiprows=1)"
   ]
  },
  {
   "cell_type": "code",
   "execution_count": 48,
   "metadata": {},
   "outputs": [],
   "source": [
    "citizen_2019_df = citizen_2019_df[['Estimate!!Total:!!Male:!!18 years and over:',\\\n",
    "                                   'Estimate!!Total:!!Female:!!18 years and over:', \\\n",
    "                                   'Estimate!!Total:!!Male:!!18 years and over:!!Foreign born:!!Not a U.S. citizen', \\\n",
    "                                   'Estimate!!Total:!!Female:!!18 years and over:!!Foreign born:!!Not a U.S. citizen', 'id']]\n",
    "citizen_2019_df.columns = ['male_pop_over18_2019', 'female_pop_over18_2019', 'male_pop_over18_nocitizen_2019', 'female_pop_over18_nocitizen_2019','id']"
   ]
  },
  {
   "cell_type": "code",
   "execution_count": 49,
   "metadata": {},
   "outputs": [],
   "source": [
    "citizen_2019_df['over_18'] = citizen_2019_df['male_pop_over18_2019'] + citizen_2019_df['female_pop_over18_2019']\n",
    "citizen_2019_df['citizen_over_18'] = citizen_2019_df['over_18'] - citizen_2019_df['male_pop_over18_nocitizen_2019'] - citizen_2019_df['female_pop_over18_nocitizen_2019']\n",
    "citizen_2019_df['pct_citizen_over_18'] = citizen_2019_df['citizen_over_18'] / citizen_2019_df['over_18']"
   ]
  },
  {
   "cell_type": "code",
   "execution_count": 50,
   "metadata": {},
   "outputs": [],
   "source": [
    "citizen_2019_df['tract'] = citizen_2019_df['id'].apply(get_census_tract)"
   ]
  },
  {
   "cell_type": "code",
   "execution_count": 51,
   "metadata": {},
   "outputs": [],
   "source": [
    "citizen_2019_df_final = citizen_2019_df[['tract', 'citizen_over_18', 'pct_citizen_over_18']]"
   ]
  },
  {
   "cell_type": "code",
   "execution_count": 52,
   "metadata": {},
   "outputs": [
    {
     "data": {
      "text/html": [
       "<div>\n",
       "<style scoped>\n",
       "    .dataframe tbody tr th:only-of-type {\n",
       "        vertical-align: middle;\n",
       "    }\n",
       "\n",
       "    .dataframe tbody tr th {\n",
       "        vertical-align: top;\n",
       "    }\n",
       "\n",
       "    .dataframe thead th {\n",
       "        text-align: right;\n",
       "    }\n",
       "</style>\n",
       "<table border=\"1\" class=\"dataframe\">\n",
       "  <thead>\n",
       "    <tr style=\"text-align: right;\">\n",
       "      <th></th>\n",
       "      <th>tract</th>\n",
       "      <th>citizen_over_18</th>\n",
       "      <th>pct_citizen_over_18</th>\n",
       "    </tr>\n",
       "  </thead>\n",
       "  <tbody>\n",
       "  </tbody>\n",
       "</table>\n",
       "</div>"
      ],
      "text/plain": [
       "Empty DataFrame\n",
       "Columns: [tract, citizen_over_18, pct_citizen_over_18]\n",
       "Index: []"
      ]
     },
     "execution_count": 52,
     "metadata": {},
     "output_type": "execute_result"
    }
   ],
   "source": [
    "citizen_2019_df_final[citizen_2019_df_final['tract']=='5056']"
   ]
  },
  {
   "cell_type": "markdown",
   "metadata": {},
   "source": [
    "### population 2020 / % black / % white\n",
    "- source: https://data.census.gov/cedsci/table?q=percent%20black&g=0500000US26163%241400000&y=2019&d=ACS%205-Year%20Estimates%20Data%20Profiles\n",
    "- table DP05 - 2019 ACS"
   ]
  },
  {
   "cell_type": "code",
   "execution_count": 53,
   "metadata": {},
   "outputs": [],
   "source": [
    "pop_df = pd.read_csv('../data/DECENNIALPL2020.P1_data_with_overlays_2021-12-08T181156.csv', skiprows=1)"
   ]
  },
  {
   "cell_type": "code",
   "execution_count": 54,
   "metadata": {},
   "outputs": [],
   "source": [
    "pop_df = pop_df[['id', ' !!Total:', ' !!Total:!!Population of one race:!!White alone',\\\n",
    "                  ' !!Total:!!Population of one race:!!Black or African American alone']]"
   ]
  },
  {
   "cell_type": "code",
   "execution_count": 55,
   "metadata": {},
   "outputs": [],
   "source": [
    "pop_df.columns = ['id', 'tot_pop_2020', 'tot_white', 'tot_black']"
   ]
  },
  {
   "cell_type": "code",
   "execution_count": 56,
   "metadata": {},
   "outputs": [],
   "source": [
    "pop_df['pct_white'] = pop_df['tot_white'] / pop_df['tot_pop_2020']\n",
    "pop_df['pct_black'] = pop_df['tot_black'] / pop_df['tot_pop_2020']"
   ]
  },
  {
   "cell_type": "code",
   "execution_count": 57,
   "metadata": {},
   "outputs": [],
   "source": [
    "pop_df['tract'] = pop_df['id'].apply(get_census_tract)"
   ]
  },
  {
   "cell_type": "code",
   "execution_count": 58,
   "metadata": {},
   "outputs": [],
   "source": [
    "pop_df_final = pop_df[['tract', 'tot_pop_2020', 'pct_white', 'pct_black']]"
   ]
  },
  {
   "cell_type": "code",
   "execution_count": 59,
   "metadata": {},
   "outputs": [
    {
     "data": {
      "text/html": [
       "<div>\n",
       "<style scoped>\n",
       "    .dataframe tbody tr th:only-of-type {\n",
       "        vertical-align: middle;\n",
       "    }\n",
       "\n",
       "    .dataframe tbody tr th {\n",
       "        vertical-align: top;\n",
       "    }\n",
       "\n",
       "    .dataframe thead th {\n",
       "        text-align: right;\n",
       "    }\n",
       "</style>\n",
       "<table border=\"1\" class=\"dataframe\">\n",
       "  <thead>\n",
       "    <tr style=\"text-align: right;\">\n",
       "      <th></th>\n",
       "      <th>tract</th>\n",
       "      <th>tot_pop_2020</th>\n",
       "      <th>pct_white</th>\n",
       "      <th>pct_black</th>\n",
       "    </tr>\n",
       "  </thead>\n",
       "  <tbody>\n",
       "    <tr>\n",
       "      <th>37</th>\n",
       "      <td>5056</td>\n",
       "      <td>4078</td>\n",
       "      <td>0.023786</td>\n",
       "      <td>0.928396</td>\n",
       "    </tr>\n",
       "  </tbody>\n",
       "</table>\n",
       "</div>"
      ],
      "text/plain": [
       "   tract  tot_pop_2020  pct_white  pct_black\n",
       "37  5056          4078   0.023786   0.928396"
      ]
     },
     "execution_count": 59,
     "metadata": {},
     "output_type": "execute_result"
    }
   ],
   "source": [
    "pop_df_final[pop_df_final['tract']=='5056']"
   ]
  },
  {
   "cell_type": "markdown",
   "metadata": {},
   "source": [
    "## Age 2019 ACS\n",
    "- source: https://data.census.gov/cedsci/table?q=Age%20and%20Sex&t=Population%20Total%3APopulations%20and%20People&g=0500000US26163%241400000&tid=ACSST5Y2019.S0101\n",
    "- table S0101\n",
    "- I want to add <18 pop to analysis and >65 pop to analysis\n",
    "- Incorporated <18 pop into regression, run regression - specifically i want to look at <18 pop to see CTC (child tax credit) outreach"
   ]
  },
  {
   "cell_type": "code",
   "execution_count": 60,
   "metadata": {},
   "outputs": [],
   "source": [
    "age_df = pd.read_csv('../data/ACSST5Y2019.S0101_2022-02-08T213209/ACSST5Y2019.S0101_data_with_overlays_2022-02-08T213200.csv', skiprows=1)"
   ]
  },
  {
   "cell_type": "code",
   "execution_count": 61,
   "metadata": {},
   "outputs": [],
   "source": [
    "age_df = age_df[['id', 'Estimate!!Total!!Total population', 'Estimate!!Total!!Total population!!SELECTED AGE CATEGORIES!!Under 18 years', \\\n",
    "                 'Estimate!!Percent!!Total population!!SELECTED AGE CATEGORIES!!Under 18 years',\\\n",
    "                 'Estimate!!Total!!Total population!!SELECTED AGE CATEGORIES!!65 years and over',\\\n",
    "                  'Estimate!!Percent!!Total population!!SELECTED AGE CATEGORIES!!65 years and over']]\n",
    "age_df.columns = ['id', 'pop_2019', 'pop_lt_18', 'pct_lt_18', 'pop_gt_65', 'pct_gt_65']\n",
    "age_df['tract'] = age_df['id'].apply(get_census_tract)"
   ]
  },
  {
   "cell_type": "code",
   "execution_count": 62,
   "metadata": {},
   "outputs": [
    {
     "data": {
      "text/html": [
       "<div>\n",
       "<style scoped>\n",
       "    .dataframe tbody tr th:only-of-type {\n",
       "        vertical-align: middle;\n",
       "    }\n",
       "\n",
       "    .dataframe tbody tr th {\n",
       "        vertical-align: top;\n",
       "    }\n",
       "\n",
       "    .dataframe thead th {\n",
       "        text-align: right;\n",
       "    }\n",
       "</style>\n",
       "<table border=\"1\" class=\"dataframe\">\n",
       "  <thead>\n",
       "    <tr style=\"text-align: right;\">\n",
       "      <th></th>\n",
       "      <th>id</th>\n",
       "      <th>pop_2019</th>\n",
       "      <th>pop_lt_18</th>\n",
       "      <th>pct_lt_18</th>\n",
       "      <th>pop_gt_65</th>\n",
       "      <th>pct_gt_65</th>\n",
       "      <th>tract</th>\n",
       "    </tr>\n",
       "  </thead>\n",
       "  <tbody>\n",
       "    <tr>\n",
       "      <th>0</th>\n",
       "      <td>1400000US26163500100</td>\n",
       "      <td>3369</td>\n",
       "      <td>776</td>\n",
       "      <td>23.0</td>\n",
       "      <td>269</td>\n",
       "      <td>8.0</td>\n",
       "      <td>5001</td>\n",
       "    </tr>\n",
       "    <tr>\n",
       "      <th>1</th>\n",
       "      <td>1400000US26163500200</td>\n",
       "      <td>2834</td>\n",
       "      <td>731</td>\n",
       "      <td>25.8</td>\n",
       "      <td>244</td>\n",
       "      <td>8.6</td>\n",
       "      <td>5002</td>\n",
       "    </tr>\n",
       "    <tr>\n",
       "      <th>2</th>\n",
       "      <td>1400000US26163500300</td>\n",
       "      <td>1900</td>\n",
       "      <td>483</td>\n",
       "      <td>25.4</td>\n",
       "      <td>59</td>\n",
       "      <td>3.1</td>\n",
       "      <td>5003</td>\n",
       "    </tr>\n",
       "    <tr>\n",
       "      <th>3</th>\n",
       "      <td>1400000US26163500400</td>\n",
       "      <td>1052</td>\n",
       "      <td>247</td>\n",
       "      <td>23.5</td>\n",
       "      <td>54</td>\n",
       "      <td>5.1</td>\n",
       "      <td>5004</td>\n",
       "    </tr>\n",
       "    <tr>\n",
       "      <th>4</th>\n",
       "      <td>1400000US26163500500</td>\n",
       "      <td>1289</td>\n",
       "      <td>286</td>\n",
       "      <td>22.2</td>\n",
       "      <td>97</td>\n",
       "      <td>7.5</td>\n",
       "      <td>5005</td>\n",
       "    </tr>\n",
       "  </tbody>\n",
       "</table>\n",
       "</div>"
      ],
      "text/plain": [
       "                     id  pop_2019  pop_lt_18 pct_lt_18  pop_gt_65 pct_gt_65  \\\n",
       "0  1400000US26163500100      3369        776      23.0        269       8.0   \n",
       "1  1400000US26163500200      2834        731      25.8        244       8.6   \n",
       "2  1400000US26163500300      1900        483      25.4         59       3.1   \n",
       "3  1400000US26163500400      1052        247      23.5         54       5.1   \n",
       "4  1400000US26163500500      1289        286      22.2         97       7.5   \n",
       "\n",
       "  tract  \n",
       "0  5001  \n",
       "1  5002  \n",
       "2  5003  \n",
       "3  5004  \n",
       "4  5005  "
      ]
     },
     "execution_count": 62,
     "metadata": {},
     "output_type": "execute_result"
    }
   ],
   "source": [
    "age_df.head()"
   ]
  },
  {
   "cell_type": "code",
   "execution_count": 63,
   "metadata": {},
   "outputs": [],
   "source": [
    "age_df_final = age_df[['tract', 'pop_2019', 'pop_lt_18', 'pct_lt_18', 'pop_gt_65', 'pct_gt_65']]"
   ]
  },
  {
   "cell_type": "code",
   "execution_count": 64,
   "metadata": {},
   "outputs": [
    {
     "data": {
      "text/html": [
       "<div>\n",
       "<style scoped>\n",
       "    .dataframe tbody tr th:only-of-type {\n",
       "        vertical-align: middle;\n",
       "    }\n",
       "\n",
       "    .dataframe tbody tr th {\n",
       "        vertical-align: top;\n",
       "    }\n",
       "\n",
       "    .dataframe thead th {\n",
       "        text-align: right;\n",
       "    }\n",
       "</style>\n",
       "<table border=\"1\" class=\"dataframe\">\n",
       "  <thead>\n",
       "    <tr style=\"text-align: right;\">\n",
       "      <th></th>\n",
       "      <th>tract</th>\n",
       "      <th>pop_2019</th>\n",
       "      <th>pop_lt_18</th>\n",
       "      <th>pct_lt_18</th>\n",
       "      <th>pop_gt_65</th>\n",
       "      <th>pct_gt_65</th>\n",
       "    </tr>\n",
       "  </thead>\n",
       "  <tbody>\n",
       "  </tbody>\n",
       "</table>\n",
       "</div>"
      ],
      "text/plain": [
       "Empty DataFrame\n",
       "Columns: [tract, pop_2019, pop_lt_18, pct_lt_18, pop_gt_65, pct_gt_65]\n",
       "Index: []"
      ]
     },
     "execution_count": 64,
     "metadata": {},
     "output_type": "execute_result"
    }
   ],
   "source": [
    "age_df_final[age_df_final['tract']=='5056']"
   ]
  },
  {
   "cell_type": "markdown",
   "metadata": {},
   "source": [
    "## merge together 2010 census files"
   ]
  },
  {
   "cell_type": "code",
   "execution_count": 65,
   "metadata": {},
   "outputs": [],
   "source": [
    "tract_df_2010_total = vax_nov2021_df_small.merge(survey_df_by_census, how='left')\n",
    "tract_df_2010_total = tract_df_2010_total.merge(income_2019_df, how='left')\n",
    "tract_df_2010_total = tract_df_2010_total.merge(survey_df_count_by_ct, how='left')\n",
    "tract_df_2010_total = tract_df_2010_total.merge(survey_df_by_census, how='left')\n",
    "tract_df_2010_total = tract_df_2010_total.merge(citizen_2019_df_final, how='left')\n",
    "tract_df_2010_total = tract_df_2010_total.merge(age_df_final, how='left')"
   ]
  },
  {
   "cell_type": "code",
   "execution_count": 66,
   "metadata": {},
   "outputs": [],
   "source": [
    "### convert to numerics\n",
    "tract_df_2010_total['mean_hh_income_2019'] = pd.to_numeric(tract_df_2010_total['mean_hh_income_2019'], errors='coerce')\n",
    "tract_df_2010_total['mean_hh_income_2019'] = tract_df_2010_total['mean_hh_income_2019'].fillna(0)\n",
    "tract_df_2010_total['pop_lt_18'] = pd.to_numeric(tract_df_2010_total['pop_lt_18'], errors='coerce')\n",
    "tract_df_2010_total['pop_lt_18'] = tract_df_2010_total['pop_lt_18'].fillna(0)\n",
    "tract_df_2010_total['pct_lt_18'] = pd.to_numeric(tract_df_2010_total['pct_lt_18'], errors='coerce')\n",
    "tract_df_2010_total['pct_lt_18'] = tract_df_2010_total['pct_lt_18'].fillna(0)\n",
    "tract_df_2010_total['pop_gt_65'] = pd.to_numeric(tract_df_2010_total['pop_gt_65'], errors='coerce')\n",
    "tract_df_2010_total['pop_gt_65'] = tract_df_2010_total['pop_gt_65'].fillna(0)\n",
    "tract_df_2010_total['pct_gt_65'] = pd.to_numeric(tract_df_2010_total['pct_gt_65'], errors='coerce')\n",
    "tract_df_2010_total['pct_gt_65'] = tract_df_2010_total['pct_gt_65'].fillna(0)"
   ]
  },
  {
   "cell_type": "code",
   "execution_count": 67,
   "metadata": {},
   "outputs": [],
   "source": [
    "### remove tracts 9852 and 9855 - these ones are outliers it seems, only pop counts of 0 and 3 exist for them\n",
    "### 9852 is the tract on the eastside with the GM conner plant that is empty in the final map\n",
    "### 9859 is the tract along russell on the SE corner of 75 and 94\n",
    "### 9842 & 9836 are the 2 tracts that are railroad yards south of john kronk in SW detroit\n",
    "tract_df_2010_total = tract_df_2010_total[~tract_df_2010_total['tract'].isin(['9850', '9852', '9855', '9859'])]"
   ]
  },
  {
   "cell_type": "code",
   "execution_count": 68,
   "metadata": {},
   "outputs": [],
   "source": [
    "tract_df_2010_total['pct_full_vaxed_16'][tract_df_2010_total['pct_full_vaxed_16']=='>100%'] = 1\n",
    "tract_df_2010_total['pct_1_or_more_dose_16'][tract_df_2010_total['pct_1_or_more_dose_16']=='>100%'] = 1\n",
    "tract_df_2010_total['pct_1_or_more_dose_5'][tract_df_2010_total['pct_1_or_more_dose_5']=='>100%'] = 1\n",
    "tract_df_2010_total['pct_full_faxed_5'][tract_df_2010_total['pct_full_faxed_5']=='>100%'] = 1"
   ]
  },
  {
   "cell_type": "code",
   "execution_count": 69,
   "metadata": {},
   "outputs": [
    {
     "data": {
      "text/html": [
       "<div>\n",
       "<style scoped>\n",
       "    .dataframe tbody tr th:only-of-type {\n",
       "        vertical-align: middle;\n",
       "    }\n",
       "\n",
       "    .dataframe tbody tr th {\n",
       "        vertical-align: top;\n",
       "    }\n",
       "\n",
       "    .dataframe thead th {\n",
       "        text-align: right;\n",
       "    }\n",
       "</style>\n",
       "<table border=\"1\" class=\"dataframe\">\n",
       "  <thead>\n",
       "    <tr style=\"text-align: right;\">\n",
       "      <th></th>\n",
       "      <th>tract</th>\n",
       "      <th>SVI</th>\n",
       "      <th>pct_1_or_more_dose_16</th>\n",
       "      <th>pct_full_vaxed_16</th>\n",
       "      <th>pct_1_or_more_dose_5</th>\n",
       "      <th>pct_full_faxed_5</th>\n",
       "      <th>vacant_dummy</th>\n",
       "      <th>occupied_dummy</th>\n",
       "      <th>count_hh_2019</th>\n",
       "      <th>mean_hh_income_2019</th>\n",
       "      <th>survey_count</th>\n",
       "      <th>citizen_over_18</th>\n",
       "      <th>pct_citizen_over_18</th>\n",
       "      <th>pop_2019</th>\n",
       "      <th>pop_lt_18</th>\n",
       "      <th>pct_lt_18</th>\n",
       "      <th>pop_gt_65</th>\n",
       "      <th>pct_gt_65</th>\n",
       "    </tr>\n",
       "  </thead>\n",
       "  <tbody>\n",
       "    <tr>\n",
       "      <th>0</th>\n",
       "      <td>5001</td>\n",
       "      <td>0.5912</td>\n",
       "      <td>0.448</td>\n",
       "      <td>0.386</td>\n",
       "      <td>0.369</td>\n",
       "      <td>0.317</td>\n",
       "      <td>0.065629</td>\n",
       "      <td>0.897835</td>\n",
       "      <td>1438</td>\n",
       "      <td>49015.0</td>\n",
       "      <td>1478.0</td>\n",
       "      <td>2593</td>\n",
       "      <td>1.000000</td>\n",
       "      <td>3369</td>\n",
       "      <td>776</td>\n",
       "      <td>23.0</td>\n",
       "      <td>269</td>\n",
       "      <td>8.0</td>\n",
       "    </tr>\n",
       "    <tr>\n",
       "      <th>1</th>\n",
       "      <td>5002</td>\n",
       "      <td>0.4878</td>\n",
       "      <td>0.441</td>\n",
       "      <td>0.374</td>\n",
       "      <td>0.342</td>\n",
       "      <td>0.29</td>\n",
       "      <td>NaN</td>\n",
       "      <td>NaN</td>\n",
       "      <td>1088</td>\n",
       "      <td>61980.0</td>\n",
       "      <td>NaN</td>\n",
       "      <td>2094</td>\n",
       "      <td>0.995720</td>\n",
       "      <td>2834</td>\n",
       "      <td>731</td>\n",
       "      <td>25.8</td>\n",
       "      <td>244</td>\n",
       "      <td>8.6</td>\n",
       "    </tr>\n",
       "    <tr>\n",
       "      <th>2</th>\n",
       "      <td>5003</td>\n",
       "      <td>0.8413</td>\n",
       "      <td>0.411</td>\n",
       "      <td>0.346</td>\n",
       "      <td>0.324</td>\n",
       "      <td>0.272</td>\n",
       "      <td>0.323144</td>\n",
       "      <td>0.660480</td>\n",
       "      <td>811</td>\n",
       "      <td>50345.0</td>\n",
       "      <td>916.0</td>\n",
       "      <td>1417</td>\n",
       "      <td>1.000000</td>\n",
       "      <td>1900</td>\n",
       "      <td>483</td>\n",
       "      <td>25.4</td>\n",
       "      <td>59</td>\n",
       "      <td>3.1</td>\n",
       "    </tr>\n",
       "    <tr>\n",
       "      <th>3</th>\n",
       "      <td>5004</td>\n",
       "      <td>0.8786</td>\n",
       "      <td>0.294</td>\n",
       "      <td>0.248</td>\n",
       "      <td>0.23</td>\n",
       "      <td>0.193</td>\n",
       "      <td>1.000000</td>\n",
       "      <td>0.000000</td>\n",
       "      <td>375</td>\n",
       "      <td>34880.0</td>\n",
       "      <td>6.0</td>\n",
       "      <td>803</td>\n",
       "      <td>0.997516</td>\n",
       "      <td>1052</td>\n",
       "      <td>247</td>\n",
       "      <td>23.5</td>\n",
       "      <td>54</td>\n",
       "      <td>5.1</td>\n",
       "    </tr>\n",
       "    <tr>\n",
       "      <th>4</th>\n",
       "      <td>5005</td>\n",
       "      <td>0.6355</td>\n",
       "      <td>0.364</td>\n",
       "      <td>0.31</td>\n",
       "      <td>0.308</td>\n",
       "      <td>0.26</td>\n",
       "      <td>0.370460</td>\n",
       "      <td>0.607748</td>\n",
       "      <td>506</td>\n",
       "      <td>43058.0</td>\n",
       "      <td>826.0</td>\n",
       "      <td>998</td>\n",
       "      <td>0.995015</td>\n",
       "      <td>1289</td>\n",
       "      <td>286</td>\n",
       "      <td>22.2</td>\n",
       "      <td>97</td>\n",
       "      <td>7.5</td>\n",
       "    </tr>\n",
       "  </tbody>\n",
       "</table>\n",
       "</div>"
      ],
      "text/plain": [
       "  tract     SVI pct_1_or_more_dose_16 pct_full_vaxed_16 pct_1_or_more_dose_5  \\\n",
       "0  5001  0.5912                 0.448             0.386                0.369   \n",
       "1  5002  0.4878                 0.441             0.374                0.342   \n",
       "2  5003  0.8413                 0.411             0.346                0.324   \n",
       "3  5004  0.8786                 0.294             0.248                 0.23   \n",
       "4  5005  0.6355                 0.364              0.31                0.308   \n",
       "\n",
       "  pct_full_faxed_5  vacant_dummy  occupied_dummy  count_hh_2019  \\\n",
       "0            0.317      0.065629        0.897835           1438   \n",
       "1             0.29           NaN             NaN           1088   \n",
       "2            0.272      0.323144        0.660480            811   \n",
       "3            0.193      1.000000        0.000000            375   \n",
       "4             0.26      0.370460        0.607748            506   \n",
       "\n",
       "   mean_hh_income_2019  survey_count  citizen_over_18  pct_citizen_over_18  \\\n",
       "0              49015.0        1478.0             2593             1.000000   \n",
       "1              61980.0           NaN             2094             0.995720   \n",
       "2              50345.0         916.0             1417             1.000000   \n",
       "3              34880.0           6.0              803             0.997516   \n",
       "4              43058.0         826.0              998             0.995015   \n",
       "\n",
       "   pop_2019  pop_lt_18  pct_lt_18  pop_gt_65  pct_gt_65  \n",
       "0      3369        776       23.0        269        8.0  \n",
       "1      2834        731       25.8        244        8.6  \n",
       "2      1900        483       25.4         59        3.1  \n",
       "3      1052        247       23.5         54        5.1  \n",
       "4      1289        286       22.2         97        7.5  "
      ]
     },
     "execution_count": 69,
     "metadata": {},
     "output_type": "execute_result"
    }
   ],
   "source": [
    "tract_df_2010_total.head()"
   ]
  },
  {
   "cell_type": "code",
   "execution_count": 70,
   "metadata": {},
   "outputs": [
    {
     "data": {
      "text/html": [
       "<div>\n",
       "<style scoped>\n",
       "    .dataframe tbody tr th:only-of-type {\n",
       "        vertical-align: middle;\n",
       "    }\n",
       "\n",
       "    .dataframe tbody tr th {\n",
       "        vertical-align: top;\n",
       "    }\n",
       "\n",
       "    .dataframe thead th {\n",
       "        text-align: right;\n",
       "    }\n",
       "</style>\n",
       "<table border=\"1\" class=\"dataframe\">\n",
       "  <thead>\n",
       "    <tr style=\"text-align: right;\">\n",
       "      <th></th>\n",
       "      <th>tract</th>\n",
       "      <th>SVI</th>\n",
       "      <th>pct_1_or_more_dose_16</th>\n",
       "      <th>pct_full_vaxed_16</th>\n",
       "      <th>pct_1_or_more_dose_5</th>\n",
       "      <th>pct_full_faxed_5</th>\n",
       "      <th>vacant_dummy</th>\n",
       "      <th>occupied_dummy</th>\n",
       "      <th>count_hh_2019</th>\n",
       "      <th>mean_hh_income_2019</th>\n",
       "      <th>survey_count</th>\n",
       "      <th>citizen_over_18</th>\n",
       "      <th>pct_citizen_over_18</th>\n",
       "      <th>pop_2019</th>\n",
       "      <th>pop_lt_18</th>\n",
       "      <th>pct_lt_18</th>\n",
       "      <th>pop_gt_65</th>\n",
       "      <th>pct_gt_65</th>\n",
       "    </tr>\n",
       "  </thead>\n",
       "  <tbody>\n",
       "    <tr>\n",
       "      <th>59</th>\n",
       "      <td>5104</td>\n",
       "      <td>0.7346</td>\n",
       "      <td>0.499</td>\n",
       "      <td>0.424</td>\n",
       "      <td>0.468</td>\n",
       "      <td>0.397</td>\n",
       "      <td>0.457286</td>\n",
       "      <td>0.542714</td>\n",
       "      <td>260</td>\n",
       "      <td>30150.0</td>\n",
       "      <td>597.0</td>\n",
       "      <td>417</td>\n",
       "      <td>1.0</td>\n",
       "      <td>514</td>\n",
       "      <td>97</td>\n",
       "      <td>18.9</td>\n",
       "      <td>106</td>\n",
       "      <td>20.6</td>\n",
       "    </tr>\n",
       "  </tbody>\n",
       "</table>\n",
       "</div>"
      ],
      "text/plain": [
       "   tract     SVI pct_1_or_more_dose_16 pct_full_vaxed_16 pct_1_or_more_dose_5  \\\n",
       "59  5104  0.7346                 0.499             0.424                0.468   \n",
       "\n",
       "   pct_full_faxed_5  vacant_dummy  occupied_dummy  count_hh_2019  \\\n",
       "59            0.397      0.457286        0.542714            260   \n",
       "\n",
       "    mean_hh_income_2019  survey_count  citizen_over_18  pct_citizen_over_18  \\\n",
       "59              30150.0         597.0              417                  1.0   \n",
       "\n",
       "    pop_2019  pop_lt_18  pct_lt_18  pop_gt_65  pct_gt_65  \n",
       "59       514         97       18.9        106       20.6  "
      ]
     },
     "execution_count": 70,
     "metadata": {},
     "output_type": "execute_result"
    }
   ],
   "source": [
    "tract_df_2010_total[tract_df_2010_total['tract']=='5104']"
   ]
  },
  {
   "cell_type": "code",
   "execution_count": 71,
   "metadata": {},
   "outputs": [
    {
     "data": {
      "text/html": [
       "<div>\n",
       "<style scoped>\n",
       "    .dataframe tbody tr th:only-of-type {\n",
       "        vertical-align: middle;\n",
       "    }\n",
       "\n",
       "    .dataframe tbody tr th {\n",
       "        vertical-align: top;\n",
       "    }\n",
       "\n",
       "    .dataframe thead th {\n",
       "        text-align: right;\n",
       "    }\n",
       "</style>\n",
       "<table border=\"1\" class=\"dataframe\">\n",
       "  <thead>\n",
       "    <tr style=\"text-align: right;\">\n",
       "      <th></th>\n",
       "      <th>tract</th>\n",
       "      <th>SVI</th>\n",
       "      <th>pct_1_or_more_dose_16</th>\n",
       "      <th>pct_full_vaxed_16</th>\n",
       "      <th>pct_1_or_more_dose_5</th>\n",
       "      <th>pct_full_faxed_5</th>\n",
       "      <th>vacant_dummy</th>\n",
       "      <th>occupied_dummy</th>\n",
       "      <th>count_hh_2019</th>\n",
       "      <th>mean_hh_income_2019</th>\n",
       "      <th>survey_count</th>\n",
       "      <th>citizen_over_18</th>\n",
       "      <th>pct_citizen_over_18</th>\n",
       "      <th>pop_2019</th>\n",
       "      <th>pop_lt_18</th>\n",
       "      <th>pct_lt_18</th>\n",
       "      <th>pop_gt_65</th>\n",
       "      <th>pct_gt_65</th>\n",
       "    </tr>\n",
       "  </thead>\n",
       "  <tbody>\n",
       "    <tr>\n",
       "      <th>60</th>\n",
       "      <td>5105</td>\n",
       "      <td>0.9225</td>\n",
       "      <td>0.793</td>\n",
       "      <td>0.709</td>\n",
       "      <td>0.69</td>\n",
       "      <td>0.619</td>\n",
       "      <td>0.017744</td>\n",
       "      <td>0.968314</td>\n",
       "      <td>1164</td>\n",
       "      <td>39426.0</td>\n",
       "      <td>789.0</td>\n",
       "      <td>1707</td>\n",
       "      <td>0.536624</td>\n",
       "      <td>4257</td>\n",
       "      <td>1076</td>\n",
       "      <td>25.3</td>\n",
       "      <td>366</td>\n",
       "      <td>8.6</td>\n",
       "    </tr>\n",
       "  </tbody>\n",
       "</table>\n",
       "</div>"
      ],
      "text/plain": [
       "   tract     SVI pct_1_or_more_dose_16 pct_full_vaxed_16 pct_1_or_more_dose_5  \\\n",
       "60  5105  0.9225                 0.793             0.709                 0.69   \n",
       "\n",
       "   pct_full_faxed_5  vacant_dummy  occupied_dummy  count_hh_2019  \\\n",
       "60            0.619      0.017744        0.968314           1164   \n",
       "\n",
       "    mean_hh_income_2019  survey_count  citizen_over_18  pct_citizen_over_18  \\\n",
       "60              39426.0         789.0             1707             0.536624   \n",
       "\n",
       "    pop_2019  pop_lt_18  pct_lt_18  pop_gt_65  pct_gt_65  \n",
       "60      4257       1076       25.3        366        8.6  "
      ]
     },
     "execution_count": 71,
     "metadata": {},
     "output_type": "execute_result"
    }
   ],
   "source": [
    "tract_df_2010_total[tract_df_2010_total['tract']=='5105']"
   ]
  },
  {
   "cell_type": "markdown",
   "metadata": {},
   "source": [
    "## Try to predict vacant % / occupied %\n",
    "- 7% of tracts didn't have a number for some reason\n",
    "- we need to fill in data where pct vacant is missing or zero.\n",
    "\n",
    "Strategy:\n",
    "- build a ML model to predict pct vacant based on SVI, count_hh_2019, mean_hh_income_2019, pct_full_vaxed_16: then take that model to then predict on original data"
   ]
  },
  {
   "cell_type": "markdown",
   "metadata": {},
   "source": [
    "## Clean up data\n",
    "- we've got some nans"
   ]
  },
  {
   "cell_type": "code",
   "execution_count": 72,
   "metadata": {},
   "outputs": [
    {
     "data": {
      "text/plain": [
       "0.06484641638225255"
      ]
     },
     "execution_count": 72,
     "metadata": {},
     "output_type": "execute_result"
    }
   ],
   "source": [
    "len(tract_df_2010_total[tract_df_2010_total['vacant_dummy'].isna()]) / len(tract_df_2010_total)"
   ]
  },
  {
   "cell_type": "code",
   "execution_count": 73,
   "metadata": {},
   "outputs": [],
   "source": [
    "vacant_dummy_df = tract_df_2010_total[['SVI', 'count_hh_2019', 'mean_hh_income_2019', 'pct_full_vaxed_16', 'vacant_dummy']]"
   ]
  },
  {
   "cell_type": "code",
   "execution_count": 74,
   "metadata": {},
   "outputs": [],
   "source": [
    "#drop rows where vacant_dummy is NaN\n",
    "vacant_dummy_df = vacant_dummy_df[np.isfinite(vacant_dummy_df['vacant_dummy'])]"
   ]
  },
  {
   "cell_type": "code",
   "execution_count": 75,
   "metadata": {},
   "outputs": [],
   "source": [
    "X = vacant_dummy_df.drop(['vacant_dummy'], axis=1)\n",
    "y = vacant_dummy_df['vacant_dummy']\n",
    "X_train, X_test, y_train, y_test = train_test_split(X, y, test_size=0.3, random_state=42)"
   ]
  },
  {
   "cell_type": "code",
   "execution_count": 76,
   "metadata": {},
   "outputs": [
    {
     "data": {
      "text/plain": [
       "GridSearchCV(estimator=RandomForestRegressor(),\n",
       "             param_grid={'max_depth': [10, 20, 30],\n",
       "                         'n_estimators': array([401, 501, 601])})"
      ]
     },
     "execution_count": 76,
     "metadata": {},
     "output_type": "execute_result"
    }
   ],
   "source": [
    "# use random forest to predict vacant_dummy\n",
    "r_tree = RandomForestRegressor()\n",
    "r_tree_tuned_vacant = GridSearchCV(r_tree, rf_param_grid)\n",
    "r_tree_tuned_vacant.fit(X_train, y_train)"
   ]
  },
  {
   "cell_type": "code",
   "execution_count": 77,
   "metadata": {},
   "outputs": [
    {
     "data": {
      "text/html": [
       "<div>\n",
       "<style scoped>\n",
       "    .dataframe tbody tr th:only-of-type {\n",
       "        vertical-align: middle;\n",
       "    }\n",
       "\n",
       "    .dataframe tbody tr th {\n",
       "        vertical-align: top;\n",
       "    }\n",
       "\n",
       "    .dataframe thead th {\n",
       "        text-align: right;\n",
       "    }\n",
       "</style>\n",
       "<table border=\"1\" class=\"dataframe\">\n",
       "  <thead>\n",
       "    <tr style=\"text-align: right;\">\n",
       "      <th></th>\n",
       "      <th>variables</th>\n",
       "      <th>importance</th>\n",
       "    </tr>\n",
       "  </thead>\n",
       "  <tbody>\n",
       "    <tr>\n",
       "      <th>0</th>\n",
       "      <td>count_hh_2019</td>\n",
       "      <td>0.458565</td>\n",
       "    </tr>\n",
       "    <tr>\n",
       "      <th>1</th>\n",
       "      <td>SVI</td>\n",
       "      <td>0.232958</td>\n",
       "    </tr>\n",
       "    <tr>\n",
       "      <th>2</th>\n",
       "      <td>pct_full_vaxed_16</td>\n",
       "      <td>0.168908</td>\n",
       "    </tr>\n",
       "    <tr>\n",
       "      <th>3</th>\n",
       "      <td>mean_hh_income_2019</td>\n",
       "      <td>0.139569</td>\n",
       "    </tr>\n",
       "  </tbody>\n",
       "</table>\n",
       "</div>"
      ],
      "text/plain": [
       "             variables importance\n",
       "0        count_hh_2019   0.458565\n",
       "1                  SVI   0.232958\n",
       "2    pct_full_vaxed_16   0.168908\n",
       "3  mean_hh_income_2019   0.139569"
      ]
     },
     "execution_count": 77,
     "metadata": {},
     "output_type": "execute_result"
    }
   ],
   "source": [
    "#explore feature importance\n",
    "feature_importance = r_tree_tuned_vacant.best_estimator_.fit(X_train, y_train).feature_importances_\n",
    "Feature_importance_df = pd.DataFrame([list(X_train.columns), list(feature_importance)]).T\n",
    "Feature_importance_df.columns = [\"variables\", \"importance\"]\n",
    "Feature_importance_df.sort_values(by=\"importance\", ascending=False, inplace=True)\n",
    "Feature_importance_df.reset_index(inplace=True)\n",
    "Feature_importance_df.drop(u'index', axis=1, inplace=True)\n",
    "Feature_importance_df"
   ]
  },
  {
   "cell_type": "code",
   "execution_count": 78,
   "metadata": {},
   "outputs": [
    {
     "data": {
      "text/plain": [
       "0.16644810002286364"
      ]
     },
     "execution_count": 78,
     "metadata": {},
     "output_type": "execute_result"
    }
   ],
   "source": [
    "#run accuracy metrics\n",
    "predictions = r_tree_tuned_vacant.predict(X_test)\n",
    "#RMSE\n",
    "mean_squared_error(y_test, predictions)**0.5"
   ]
  },
  {
   "cell_type": "code",
   "execution_count": 79,
   "metadata": {},
   "outputs": [
    {
     "data": {
      "text/plain": [
       "0.16809712415082523"
      ]
     },
     "execution_count": 79,
     "metadata": {},
     "output_type": "execute_result"
    }
   ],
   "source": [
    "y_test.std()"
   ]
  },
  {
   "cell_type": "code",
   "execution_count": 80,
   "metadata": {},
   "outputs": [
    {
     "name": "stderr",
     "output_type": "stream",
     "text": [
      "<ipython-input-80-f819fbe4649f>:7: SettingWithCopyWarning: \n",
      "A value is trying to be set on a copy of a slice from a DataFrame\n",
      "\n",
      "See the caveats in the documentation: https://pandas.pydata.org/pandas-docs/stable/user_guide/indexing.html#returning-a-view-versus-a-copy\n",
      "  tract_df_2010_total['vacant_dummy'][(np.isnan(tract_df_2010_total['vacant_dummy']))]\\\n"
     ]
    }
   ],
   "source": [
    "#apply model to full data\n",
    "vacant_dummy_predict = tract_df_2010_total[['SVI', 'count_hh_2019', 'mean_hh_income_2019', 'pct_full_vaxed_16']]\n",
    "\n",
    "tract_df_2010_total['vacant_dummy_predict'] = r_tree_tuned_vacant.predict(vacant_dummy_predict)\n",
    "\n",
    "#if missing vacant_dummy (or if it's zero), replace with predicted value\n",
    "tract_df_2010_total['vacant_dummy'][(np.isnan(tract_df_2010_total['vacant_dummy']))]\\\n",
    "= tract_df_2010_total['vacant_dummy_predict']\n",
    "        \n",
    "#drop predicted vacant_dummy_predict\n",
    "tract_df_2010_total = tract_df_2010_total.drop(['vacant_dummy_predict'], axis=1)"
   ]
  },
  {
   "cell_type": "code",
   "execution_count": 81,
   "metadata": {},
   "outputs": [
    {
     "name": "stderr",
     "output_type": "stream",
     "text": [
      "<ipython-input-81-091f31794f36>:2: SettingWithCopyWarning: \n",
      "A value is trying to be set on a copy of a slice from a DataFrame\n",
      "\n",
      "See the caveats in the documentation: https://pandas.pydata.org/pandas-docs/stable/user_guide/indexing.html#returning-a-view-versus-a-copy\n",
      "  tract_df_2010_total['occupied_dummy'][tract_df_2010_total['occupied_dummy'].isna()] = 1 - tract_df_2010_total['vacant_dummy']\n"
     ]
    }
   ],
   "source": [
    "### fill in blank occupied_dummies with 1 - predicted vacant dummy\n",
    "tract_df_2010_total['occupied_dummy'][tract_df_2010_total['occupied_dummy'].isna()] = 1 - tract_df_2010_total['vacant_dummy']"
   ]
  },
  {
   "cell_type": "markdown",
   "metadata": {},
   "source": [
    "## merge together 2020 census files"
   ]
  },
  {
   "cell_type": "code",
   "execution_count": 82,
   "metadata": {},
   "outputs": [],
   "source": [
    "tract_df_2020_total = census_response_df.merge(pop_df_final, how='left')\n",
    "tract_df_2020_total = tract_df_2020_total.merge(voters_by_tract, how='left')\n",
    "tract_df_2020_total = tract_df_2020_total.merge(census_response_df, how='left')"
   ]
  },
  {
   "cell_type": "code",
   "execution_count": 83,
   "metadata": {},
   "outputs": [],
   "source": [
    "tract_df_2020_total['tot_pop_2020'] = pd.to_numeric(tract_df_2020_total['tot_pop_2020'], errors='coerce')\n",
    "tract_df_2020_total['tot_pop_2020'] = tract_df_2020_total['tot_pop_2020'].fillna(0)\n",
    "tract_df_2020_total['voters_in_nov2020'] = tract_df_2020_total['voters_in_nov2020'].fillna(0)\n",
    "tract_df_2020_total['pct_black'] = tract_df_2020_total['pct_black'].fillna(0)\n",
    "tract_df_2020_total['pct_white'] = tract_df_2020_total['pct_white'].fillna(0)\n",
    "tract_df_2020_total['internet_response_census'] = tract_df_2020_total['internet_response_census'].fillna(0)\n",
    "tract_df_2020_total['total_self_response_census'] = tract_df_2020_total['total_self_response_census'].fillna(0)"
   ]
  },
  {
   "cell_type": "code",
   "execution_count": 84,
   "metadata": {},
   "outputs": [
    {
     "data": {
      "text/html": [
       "<div>\n",
       "<style scoped>\n",
       "    .dataframe tbody tr th:only-of-type {\n",
       "        vertical-align: middle;\n",
       "    }\n",
       "\n",
       "    .dataframe tbody tr th {\n",
       "        vertical-align: top;\n",
       "    }\n",
       "\n",
       "    .dataframe thead th {\n",
       "        text-align: right;\n",
       "    }\n",
       "</style>\n",
       "<table border=\"1\" class=\"dataframe\">\n",
       "  <thead>\n",
       "    <tr style=\"text-align: right;\">\n",
       "      <th></th>\n",
       "      <th>tract</th>\n",
       "      <th>internet_response_census</th>\n",
       "      <th>total_self_response_census</th>\n",
       "      <th>tot_pop_2020</th>\n",
       "      <th>pct_white</th>\n",
       "      <th>pct_black</th>\n",
       "      <th>voters_in_nov2020</th>\n",
       "    </tr>\n",
       "  </thead>\n",
       "  <tbody>\n",
       "    <tr>\n",
       "      <th>105</th>\n",
       "      <td>5219</td>\n",
       "      <td>31.5</td>\n",
       "      <td>52.0</td>\n",
       "      <td>2943</td>\n",
       "      <td>0.339110</td>\n",
       "      <td>0.566429</td>\n",
       "      <td>1240</td>\n",
       "    </tr>\n",
       "    <tr>\n",
       "      <th>16</th>\n",
       "      <td>5017</td>\n",
       "      <td>26.5</td>\n",
       "      <td>47.8</td>\n",
       "      <td>2218</td>\n",
       "      <td>0.197475</td>\n",
       "      <td>0.744815</td>\n",
       "      <td>698</td>\n",
       "    </tr>\n",
       "    <tr>\n",
       "      <th>264</th>\n",
       "      <td>5471</td>\n",
       "      <td>33.5</td>\n",
       "      <td>55.9</td>\n",
       "      <td>4714</td>\n",
       "      <td>0.018880</td>\n",
       "      <td>0.938481</td>\n",
       "      <td>1804</td>\n",
       "    </tr>\n",
       "    <tr>\n",
       "      <th>133</th>\n",
       "      <td>5265</td>\n",
       "      <td>19.6</td>\n",
       "      <td>33.9</td>\n",
       "      <td>1796</td>\n",
       "      <td>0.039532</td>\n",
       "      <td>0.676503</td>\n",
       "      <td>616</td>\n",
       "    </tr>\n",
       "    <tr>\n",
       "      <th>153</th>\n",
       "      <td>5319</td>\n",
       "      <td>15.0</td>\n",
       "      <td>27.2</td>\n",
       "      <td>866</td>\n",
       "      <td>0.054273</td>\n",
       "      <td>0.870670</td>\n",
       "      <td>251</td>\n",
       "    </tr>\n",
       "    <tr>\n",
       "      <th>267</th>\n",
       "      <td>9851</td>\n",
       "      <td>30.4</td>\n",
       "      <td>32.3</td>\n",
       "      <td>154</td>\n",
       "      <td>0.409091</td>\n",
       "      <td>0.512987</td>\n",
       "      <td>42</td>\n",
       "    </tr>\n",
       "    <tr>\n",
       "      <th>25</th>\n",
       "      <td>5034</td>\n",
       "      <td>18.9</td>\n",
       "      <td>34.7</td>\n",
       "      <td>886</td>\n",
       "      <td>0.041761</td>\n",
       "      <td>0.856659</td>\n",
       "      <td>343</td>\n",
       "    </tr>\n",
       "    <tr>\n",
       "      <th>140</th>\n",
       "      <td>5308</td>\n",
       "      <td>15.2</td>\n",
       "      <td>31.3</td>\n",
       "      <td>1394</td>\n",
       "      <td>0.021521</td>\n",
       "      <td>0.930416</td>\n",
       "      <td>492</td>\n",
       "    </tr>\n",
       "    <tr>\n",
       "      <th>172</th>\n",
       "      <td>5350</td>\n",
       "      <td>27.5</td>\n",
       "      <td>50.7</td>\n",
       "      <td>2411</td>\n",
       "      <td>0.024056</td>\n",
       "      <td>0.914144</td>\n",
       "      <td>1003</td>\n",
       "    </tr>\n",
       "    <tr>\n",
       "      <th>254</th>\n",
       "      <td>5457</td>\n",
       "      <td>38.9</td>\n",
       "      <td>60.5</td>\n",
       "      <td>2925</td>\n",
       "      <td>0.346667</td>\n",
       "      <td>0.422906</td>\n",
       "      <td>723</td>\n",
       "    </tr>\n",
       "  </tbody>\n",
       "</table>\n",
       "</div>"
      ],
      "text/plain": [
       "    tract  internet_response_census  total_self_response_census  tot_pop_2020  \\\n",
       "105  5219                      31.5                        52.0          2943   \n",
       "16   5017                      26.5                        47.8          2218   \n",
       "264  5471                      33.5                        55.9          4714   \n",
       "133  5265                      19.6                        33.9          1796   \n",
       "153  5319                      15.0                        27.2           866   \n",
       "267  9851                      30.4                        32.3           154   \n",
       "25   5034                      18.9                        34.7           886   \n",
       "140  5308                      15.2                        31.3          1394   \n",
       "172  5350                      27.5                        50.7          2411   \n",
       "254  5457                      38.9                        60.5          2925   \n",
       "\n",
       "     pct_white  pct_black  voters_in_nov2020  \n",
       "105   0.339110   0.566429               1240  \n",
       "16    0.197475   0.744815                698  \n",
       "264   0.018880   0.938481               1804  \n",
       "133   0.039532   0.676503                616  \n",
       "153   0.054273   0.870670                251  \n",
       "267   0.409091   0.512987                 42  \n",
       "25    0.041761   0.856659                343  \n",
       "140   0.021521   0.930416                492  \n",
       "172   0.024056   0.914144               1003  \n",
       "254   0.346667   0.422906                723  "
      ]
     },
     "execution_count": 84,
     "metadata": {},
     "output_type": "execute_result"
    }
   ],
   "source": [
    "tract_df_2020_total.sample(10)"
   ]
  },
  {
   "cell_type": "markdown",
   "metadata": {},
   "source": [
    "## Need to merge 2010 census tracts to 2020 census tracts\n",
    "### read in census tract shapefiles\n",
    "- source: https://www.census.gov/geographies/mapping-files/time-series/geo/tiger-line-file.2020.html"
   ]
  },
  {
   "cell_type": "code",
   "execution_count": 85,
   "metadata": {},
   "outputs": [],
   "source": [
    "ct_gdf = gpd.read_file('../data/tl_2020_26_tract20.shp')"
   ]
  },
  {
   "cell_type": "code",
   "execution_count": 86,
   "metadata": {},
   "outputs": [],
   "source": [
    "ct_gdf['tract'] = ct_gdf['GEOID20'].apply(get_census_tract)"
   ]
  },
  {
   "cell_type": "code",
   "execution_count": 87,
   "metadata": {},
   "outputs": [],
   "source": [
    "ct10_gdf = gpd.read_file('../data/tl_2020_26_tract10.shp')"
   ]
  },
  {
   "cell_type": "code",
   "execution_count": 88,
   "metadata": {},
   "outputs": [],
   "source": [
    "ct10_gdf['tract'] = ct10_gdf['GEOID10'].apply(get_census_tract)"
   ]
  },
  {
   "cell_type": "code",
   "execution_count": 89,
   "metadata": {},
   "outputs": [],
   "source": [
    "tract20_df_final_shp = ct_gdf.merge(tract_df_2020_total, how='left', on='tract')"
   ]
  },
  {
   "cell_type": "code",
   "execution_count": 90,
   "metadata": {},
   "outputs": [],
   "source": [
    "tract20_df_final_shp.drop(columns=['STATEFP20', 'COUNTYFP20','TRACTCE20',\\\n",
    "                                 'GEOID20', 'NAME20', 'NAMELSAD20', 'MTFCC20', 'FUNCSTAT20',\\\n",
    "                                 'ALAND20', 'AWATER20', 'INTPTLAT20', 'INTPTLON20'], inplace=True)"
   ]
  },
  {
   "cell_type": "code",
   "execution_count": 91,
   "metadata": {},
   "outputs": [],
   "source": [
    "tract20_df_final_shp.to_file('../data/tract20_df_final_shp.shp')"
   ]
  },
  {
   "cell_type": "code",
   "execution_count": 92,
   "metadata": {},
   "outputs": [],
   "source": [
    "tract10_df_final_shp = ct10_gdf.merge(tract_df_2010_total, how='left', on='tract')"
   ]
  },
  {
   "cell_type": "code",
   "execution_count": 93,
   "metadata": {},
   "outputs": [],
   "source": [
    "tract10_df_final_shp.drop(columns=['STATEFP10', 'COUNTYFP10','TRACTCE10',\\\n",
    "                                 'GEOID10', 'NAME10', 'NAMELSAD10', 'MTFCC10', 'FUNCSTAT10',\\\n",
    "                                 'ALAND10', 'AWATER10', 'INTPTLAT10', 'INTPTLON10'], inplace=True)"
   ]
  },
  {
   "cell_type": "code",
   "execution_count": 94,
   "metadata": {},
   "outputs": [],
   "source": [
    "tract10_df_final_shp.to_file('../data/tract10_df_final_shp.shp')"
   ]
  },
  {
   "cell_type": "markdown",
   "metadata": {},
   "source": [
    "## Merge 2010 and 2020 shapefiles together\n",
    "1. spatially merge using overlay function (returns areas of intersection)\n",
    "2. (in keep_polys_and_explode) - only keep polygons that have a significant area - explode converts multipolygons to polygons (https://stackoverflow.com/questions/68861184/convert-geopandas-multipolygon-to-polygon) and only keep polygons (not geometry collections)\n",
    "3. aggregate accordingly (income take average, etc)"
   ]
  },
  {
   "cell_type": "code",
   "execution_count": 95,
   "metadata": {},
   "outputs": [],
   "source": [
    "tract_20_w_10_gdf_merged = gpd.overlay(tract20_df_final_shp, tract10_df_final_shp, how='union', make_valid=False, keep_geom_type=False)"
   ]
  },
  {
   "cell_type": "code",
   "execution_count": 96,
   "metadata": {},
   "outputs": [
    {
     "data": {
      "text/html": [
       "<div>\n",
       "<style scoped>\n",
       "    .dataframe tbody tr th:only-of-type {\n",
       "        vertical-align: middle;\n",
       "    }\n",
       "\n",
       "    .dataframe tbody tr th {\n",
       "        vertical-align: top;\n",
       "    }\n",
       "\n",
       "    .dataframe thead th {\n",
       "        text-align: right;\n",
       "    }\n",
       "</style>\n",
       "<table border=\"1\" class=\"dataframe\">\n",
       "  <thead>\n",
       "    <tr style=\"text-align: right;\">\n",
       "      <th></th>\n",
       "      <th>tract_1</th>\n",
       "      <th>internet_response_census</th>\n",
       "      <th>total_self_response_census</th>\n",
       "      <th>tot_pop_2020</th>\n",
       "      <th>pct_white</th>\n",
       "      <th>pct_black</th>\n",
       "      <th>voters_in_nov2020</th>\n",
       "      <th>tract_2</th>\n",
       "      <th>SVI</th>\n",
       "      <th>pct_1_or_more_dose_16</th>\n",
       "      <th>pct_full_vaxed_16</th>\n",
       "      <th>pct_1_or_more_dose_5</th>\n",
       "      <th>pct_full_faxed_5</th>\n",
       "      <th>vacant_dummy</th>\n",
       "      <th>occupied_dummy</th>\n",
       "      <th>count_hh_2019</th>\n",
       "      <th>mean_hh_income_2019</th>\n",
       "      <th>survey_count</th>\n",
       "      <th>citizen_over_18</th>\n",
       "      <th>pct_citizen_over_18</th>\n",
       "      <th>pop_2019</th>\n",
       "      <th>pop_lt_18</th>\n",
       "      <th>pct_lt_18</th>\n",
       "      <th>pop_gt_65</th>\n",
       "      <th>pct_gt_65</th>\n",
       "      <th>geometry</th>\n",
       "    </tr>\n",
       "  </thead>\n",
       "  <tbody>\n",
       "    <tr>\n",
       "      <th>0</th>\n",
       "      <td>5919</td>\n",
       "      <td>NaN</td>\n",
       "      <td>NaN</td>\n",
       "      <td>NaN</td>\n",
       "      <td>NaN</td>\n",
       "      <td>NaN</td>\n",
       "      <td>NaN</td>\n",
       "      <td>5919</td>\n",
       "      <td>NaN</td>\n",
       "      <td>NaN</td>\n",
       "      <td>NaN</td>\n",
       "      <td>NaN</td>\n",
       "      <td>NaN</td>\n",
       "      <td>NaN</td>\n",
       "      <td>NaN</td>\n",
       "      <td>NaN</td>\n",
       "      <td>NaN</td>\n",
       "      <td>NaN</td>\n",
       "      <td>NaN</td>\n",
       "      <td>NaN</td>\n",
       "      <td>NaN</td>\n",
       "      <td>NaN</td>\n",
       "      <td>NaN</td>\n",
       "      <td>NaN</td>\n",
       "      <td>NaN</td>\n",
       "      <td>POLYGON ((-83.24385 42.08143, -83.24375 42.081...</td>\n",
       "    </tr>\n",
       "    <tr>\n",
       "      <th>1</th>\n",
       "      <td>5930</td>\n",
       "      <td>NaN</td>\n",
       "      <td>NaN</td>\n",
       "      <td>NaN</td>\n",
       "      <td>NaN</td>\n",
       "      <td>NaN</td>\n",
       "      <td>NaN</td>\n",
       "      <td>5919</td>\n",
       "      <td>NaN</td>\n",
       "      <td>NaN</td>\n",
       "      <td>NaN</td>\n",
       "      <td>NaN</td>\n",
       "      <td>NaN</td>\n",
       "      <td>NaN</td>\n",
       "      <td>NaN</td>\n",
       "      <td>NaN</td>\n",
       "      <td>NaN</td>\n",
       "      <td>NaN</td>\n",
       "      <td>NaN</td>\n",
       "      <td>NaN</td>\n",
       "      <td>NaN</td>\n",
       "      <td>NaN</td>\n",
       "      <td>NaN</td>\n",
       "      <td>NaN</td>\n",
       "      <td>NaN</td>\n",
       "      <td>MULTILINESTRING ((-83.21551 42.11191, -83.2161...</td>\n",
       "    </tr>\n",
       "    <tr>\n",
       "      <th>2</th>\n",
       "      <td>9820</td>\n",
       "      <td>NaN</td>\n",
       "      <td>NaN</td>\n",
       "      <td>NaN</td>\n",
       "      <td>NaN</td>\n",
       "      <td>NaN</td>\n",
       "      <td>NaN</td>\n",
       "      <td>5919</td>\n",
       "      <td>NaN</td>\n",
       "      <td>NaN</td>\n",
       "      <td>NaN</td>\n",
       "      <td>NaN</td>\n",
       "      <td>NaN</td>\n",
       "      <td>NaN</td>\n",
       "      <td>NaN</td>\n",
       "      <td>NaN</td>\n",
       "      <td>NaN</td>\n",
       "      <td>NaN</td>\n",
       "      <td>NaN</td>\n",
       "      <td>NaN</td>\n",
       "      <td>NaN</td>\n",
       "      <td>NaN</td>\n",
       "      <td>NaN</td>\n",
       "      <td>NaN</td>\n",
       "      <td>NaN</td>\n",
       "      <td>MULTILINESTRING ((-83.24167 42.10964, -83.2416...</td>\n",
       "    </tr>\n",
       "    <tr>\n",
       "      <th>3</th>\n",
       "      <td>5944</td>\n",
       "      <td>NaN</td>\n",
       "      <td>NaN</td>\n",
       "      <td>NaN</td>\n",
       "      <td>NaN</td>\n",
       "      <td>NaN</td>\n",
       "      <td>NaN</td>\n",
       "      <td>5919</td>\n",
       "      <td>NaN</td>\n",
       "      <td>NaN</td>\n",
       "      <td>NaN</td>\n",
       "      <td>NaN</td>\n",
       "      <td>NaN</td>\n",
       "      <td>NaN</td>\n",
       "      <td>NaN</td>\n",
       "      <td>NaN</td>\n",
       "      <td>NaN</td>\n",
       "      <td>NaN</td>\n",
       "      <td>NaN</td>\n",
       "      <td>NaN</td>\n",
       "      <td>NaN</td>\n",
       "      <td>NaN</td>\n",
       "      <td>NaN</td>\n",
       "      <td>NaN</td>\n",
       "      <td>NaN</td>\n",
       "      <td>POINT (-83.21440 42.11194)</td>\n",
       "    </tr>\n",
       "    <tr>\n",
       "      <th>4</th>\n",
       "      <td>5991</td>\n",
       "      <td>NaN</td>\n",
       "      <td>NaN</td>\n",
       "      <td>NaN</td>\n",
       "      <td>NaN</td>\n",
       "      <td>NaN</td>\n",
       "      <td>NaN</td>\n",
       "      <td>5919</td>\n",
       "      <td>NaN</td>\n",
       "      <td>NaN</td>\n",
       "      <td>NaN</td>\n",
       "      <td>NaN</td>\n",
       "      <td>NaN</td>\n",
       "      <td>NaN</td>\n",
       "      <td>NaN</td>\n",
       "      <td>NaN</td>\n",
       "      <td>NaN</td>\n",
       "      <td>NaN</td>\n",
       "      <td>NaN</td>\n",
       "      <td>NaN</td>\n",
       "      <td>NaN</td>\n",
       "      <td>NaN</td>\n",
       "      <td>NaN</td>\n",
       "      <td>NaN</td>\n",
       "      <td>NaN</td>\n",
       "      <td>MULTILINESTRING ((-83.24185 42.09537, -83.2418...</td>\n",
       "    </tr>\n",
       "  </tbody>\n",
       "</table>\n",
       "</div>"
      ],
      "text/plain": [
       "  tract_1  internet_response_census  total_self_response_census  tot_pop_2020  \\\n",
       "0    5919                       NaN                         NaN           NaN   \n",
       "1    5930                       NaN                         NaN           NaN   \n",
       "2    9820                       NaN                         NaN           NaN   \n",
       "3    5944                       NaN                         NaN           NaN   \n",
       "4    5991                       NaN                         NaN           NaN   \n",
       "\n",
       "   pct_white  pct_black  voters_in_nov2020 tract_2  SVI pct_1_or_more_dose_16  \\\n",
       "0        NaN        NaN                NaN    5919  NaN                   NaN   \n",
       "1        NaN        NaN                NaN    5919  NaN                   NaN   \n",
       "2        NaN        NaN                NaN    5919  NaN                   NaN   \n",
       "3        NaN        NaN                NaN    5919  NaN                   NaN   \n",
       "4        NaN        NaN                NaN    5919  NaN                   NaN   \n",
       "\n",
       "  pct_full_vaxed_16 pct_1_or_more_dose_5 pct_full_faxed_5  vacant_dummy  \\\n",
       "0               NaN                  NaN              NaN           NaN   \n",
       "1               NaN                  NaN              NaN           NaN   \n",
       "2               NaN                  NaN              NaN           NaN   \n",
       "3               NaN                  NaN              NaN           NaN   \n",
       "4               NaN                  NaN              NaN           NaN   \n",
       "\n",
       "   occupied_dummy  count_hh_2019  mean_hh_income_2019  survey_count  \\\n",
       "0             NaN            NaN                  NaN           NaN   \n",
       "1             NaN            NaN                  NaN           NaN   \n",
       "2             NaN            NaN                  NaN           NaN   \n",
       "3             NaN            NaN                  NaN           NaN   \n",
       "4             NaN            NaN                  NaN           NaN   \n",
       "\n",
       "   citizen_over_18  pct_citizen_over_18  pop_2019  pop_lt_18  pct_lt_18  \\\n",
       "0              NaN                  NaN       NaN        NaN        NaN   \n",
       "1              NaN                  NaN       NaN        NaN        NaN   \n",
       "2              NaN                  NaN       NaN        NaN        NaN   \n",
       "3              NaN                  NaN       NaN        NaN        NaN   \n",
       "4              NaN                  NaN       NaN        NaN        NaN   \n",
       "\n",
       "   pop_gt_65  pct_gt_65                                           geometry  \n",
       "0        NaN        NaN  POLYGON ((-83.24385 42.08143, -83.24375 42.081...  \n",
       "1        NaN        NaN  MULTILINESTRING ((-83.21551 42.11191, -83.2161...  \n",
       "2        NaN        NaN  MULTILINESTRING ((-83.24167 42.10964, -83.2416...  \n",
       "3        NaN        NaN                         POINT (-83.21440 42.11194)  \n",
       "4        NaN        NaN  MULTILINESTRING ((-83.24185 42.09537, -83.2418...  "
      ]
     },
     "execution_count": 96,
     "metadata": {},
     "output_type": "execute_result"
    }
   ],
   "source": [
    "tract_20_w_10_gdf_merged.head()"
   ]
  },
  {
   "cell_type": "code",
   "execution_count": 97,
   "metadata": {},
   "outputs": [],
   "source": [
    "tract_20_w_10_gdf_merged['pct_full_vaxed_16'] = pd.to_numeric(tract_20_w_10_gdf_merged['pct_full_vaxed_16'], errors='coerce')\n",
    "tract_20_w_10_gdf_merged['pct_1_or_more_dose_16'] = pd.to_numeric(tract_20_w_10_gdf_merged['pct_1_or_more_dose_16'], errors='coerce')\n",
    "tract_20_w_10_gdf_merged['pct_1_or_more_dose_5'] = pd.to_numeric(tract_20_w_10_gdf_merged['pct_1_or_more_dose_5'], errors='coerce')\n",
    "tract_20_w_10_gdf_merged['pct_full_faxed_5'] = pd.to_numeric(tract_20_w_10_gdf_merged['pct_full_faxed_5'], errors='coerce')\n",
    "tract_20_w_10_gdf_merged['citizen_over_18'] = pd.to_numeric(tract_20_w_10_gdf_merged['citizen_over_18'], errors='coerce')\n",
    "tract_20_w_10_gdf_merged['pop_2019'] = pd.to_numeric(tract_20_w_10_gdf_merged['pop_2019'], errors='coerce')\n",
    "tract_20_w_10_gdf_merged['pop_lt_18'] = pd.to_numeric(tract_20_w_10_gdf_merged['pop_lt_18'], errors='coerce')\n",
    "tract_20_w_10_gdf_merged['pct_lt_18'] = pd.to_numeric(tract_20_w_10_gdf_merged['pct_lt_18'], errors='coerce')\n",
    "tract_20_w_10_gdf_merged['pop_gt_65'] = pd.to_numeric(tract_20_w_10_gdf_merged['pop_gt_65'], errors='coerce')\n",
    "tract_20_w_10_gdf_merged['pct_gt_65'] = pd.to_numeric(tract_20_w_10_gdf_merged['pct_gt_65'], errors='coerce')"
   ]
  },
  {
   "cell_type": "code",
   "execution_count": 98,
   "metadata": {},
   "outputs": [],
   "source": [
    "def keep_polys_and_explode(gdf_in):\n",
    "    gdf_in_copy = gdf_in.copy()\n",
    "    print(gdf_in_copy.crs)\n",
    "    gdf_in_copy = gdf_in_copy.to_crs({'init': 'epsg:3857'})\n",
    "    print(gdf_in_copy.crs)\n",
    "    gdf_in_copy[\"area_km2\"] = gdf_in_copy['geometry'].area/ 10**6\n",
    "    ### remove polygons that are tiny intersections (<0.1km2)\n",
    "    gdf_in_copy = gdf_in_copy[gdf_in_copy['area_km2']>0.1]\n",
    "    exploded=gdf_in_copy.explode()\n",
    "    exploded.reset_index(inplace=True)\n",
    "    exploded['type'] = exploded['geometry'].apply(lambda x: str(type(x)))\n",
    "    exploded = exploded[exploded['type']==\"<class 'shapely.geometry.polygon.Polygon'>\"]\n",
    "    exploded.drop(['level_0', 'level_1', 'type'], axis=1, inplace=True)\n",
    "    return exploded"
   ]
  },
  {
   "cell_type": "code",
   "execution_count": 99,
   "metadata": {},
   "outputs": [
    {
     "name": "stdout",
     "output_type": "stream",
     "text": [
      "epsg:4269\n"
     ]
    },
    {
     "name": "stderr",
     "output_type": "stream",
     "text": [
      "/Users/geoffperrin/opt/anaconda3/lib/python3.8/site-packages/pyproj/crs/crs.py:53: FutureWarning: '+init=<authority>:<code>' syntax is deprecated. '<authority>:<code>' is the preferred initialization method. When making the change, be mindful of axis order changes: https://pyproj4.github.io/pyproj/stable/gotchas.html#axis-order-changes-in-proj-6\n",
      "  return _prepare_from_string(\" \".join(pjargs))\n"
     ]
    },
    {
     "name": "stdout",
     "output_type": "stream",
     "text": [
      "+init=epsg:3857 +type=crs\n"
     ]
    }
   ],
   "source": [
    "tract_20_w_10_gdf_exploded = keep_polys_and_explode(tract_20_w_10_gdf_merged)"
   ]
  },
  {
   "cell_type": "code",
   "execution_count": 100,
   "metadata": {},
   "outputs": [
    {
     "name": "stderr",
     "output_type": "stream",
     "text": [
      "<ipython-input-100-da33dd75bcef>:1: FutureWarning: Indexing with multiple keys (implicitly converted to a tuple of keys) will be deprecated, use a list instead.\n",
      "  tract_20_w_10_gdf_mean = tract_20_w_10_gdf_exploded.groupby(['tract_1'], as_index=False)['internet_response_census', 'total_self_response_census',\n"
     ]
    }
   ],
   "source": [
    "tract_20_w_10_gdf_mean = tract_20_w_10_gdf_exploded.groupby(['tract_1'], as_index=False)['internet_response_census', 'total_self_response_census',\n",
    "                                                                                                     'pct_white', 'pct_black', \\\n",
    "                                                                                                     'SVI', 'pct_1_or_more_dose_16', 'pct_full_vaxed_16',\\\n",
    "                                                                                                     'pct_1_or_more_dose_5', 'pct_full_faxed_5', 'voters_in_nov2020', 'tot_pop_2020', \\\n",
    "                                                                                   'vacant_dummy', 'occupied_dummy',\\\n",
    "                                                                                  'mean_hh_income_2019'].mean()"
   ]
  },
  {
   "cell_type": "code",
   "execution_count": 101,
   "metadata": {},
   "outputs": [
    {
     "name": "stderr",
     "output_type": "stream",
     "text": [
      "<ipython-input-101-556e5845be44>:1: FutureWarning: Indexing with multiple keys (implicitly converted to a tuple of keys) will be deprecated, use a list instead.\n",
      "  tract_20_w_10_gdf_sum = tract_20_w_10_gdf_exploded.groupby(['tract_1'], as_index=False)['count_hh_2019', 'survey_count', 'citizen_over_18', 'pop_2019',\\\n"
     ]
    }
   ],
   "source": [
    "tract_20_w_10_gdf_sum = tract_20_w_10_gdf_exploded.groupby(['tract_1'], as_index=False)['count_hh_2019', 'survey_count', 'citizen_over_18', 'pop_2019',\\\n",
    "                                                                                       'pop_lt_18', 'pop_gt_65'].sum()"
   ]
  },
  {
   "cell_type": "code",
   "execution_count": 102,
   "metadata": {},
   "outputs": [],
   "source": [
    "tract_20_w_10_gdf_total_agg = tract_20_w_10_gdf_mean.merge(tract_20_w_10_gdf_sum)"
   ]
  },
  {
   "cell_type": "code",
   "execution_count": 103,
   "metadata": {},
   "outputs": [],
   "source": [
    "tract_20_w_10_gdf_total_agg.rename(columns={\"tract_1\": \"tract\"}, inplace=True)"
   ]
  },
  {
   "cell_type": "code",
   "execution_count": 104,
   "metadata": {},
   "outputs": [],
   "source": [
    "tract_20_w_10_gdf_shp = ct_gdf.merge(tract_20_w_10_gdf_total_agg, how='left', on='tract')"
   ]
  },
  {
   "cell_type": "code",
   "execution_count": 105,
   "metadata": {},
   "outputs": [],
   "source": [
    "tract_20_w_10_gdf_shp.drop(columns=['STATEFP20', 'COUNTYFP20','TRACTCE20',\\\n",
    "                                 'GEOID20', 'NAME20', 'NAMELSAD20', 'MTFCC20', 'FUNCSTAT20',\\\n",
    "                                 'ALAND20', 'AWATER20', 'INTPTLAT20', 'INTPTLON20'], inplace=True)"
   ]
  },
  {
   "cell_type": "code",
   "execution_count": 106,
   "metadata": {},
   "outputs": [],
   "source": [
    "tract_20_w_10_gdf_shp_w_10_nans = tract_20_w_10_gdf_shp.merge(tract10_df_final_shp, how='left', suffixes=('', '_10'), on='tract')"
   ]
  },
  {
   "cell_type": "code",
   "execution_count": 107,
   "metadata": {},
   "outputs": [
    {
     "data": {
      "text/html": [
       "<div>\n",
       "<style scoped>\n",
       "    .dataframe tbody tr th:only-of-type {\n",
       "        vertical-align: middle;\n",
       "    }\n",
       "\n",
       "    .dataframe tbody tr th {\n",
       "        vertical-align: top;\n",
       "    }\n",
       "\n",
       "    .dataframe thead th {\n",
       "        text-align: right;\n",
       "    }\n",
       "</style>\n",
       "<table border=\"1\" class=\"dataframe\">\n",
       "  <thead>\n",
       "    <tr style=\"text-align: right;\">\n",
       "      <th></th>\n",
       "      <th>geometry</th>\n",
       "      <th>tract</th>\n",
       "      <th>internet_response_census</th>\n",
       "      <th>total_self_response_census</th>\n",
       "      <th>pct_white</th>\n",
       "      <th>pct_black</th>\n",
       "      <th>SVI</th>\n",
       "      <th>pct_1_or_more_dose_16</th>\n",
       "      <th>pct_full_vaxed_16</th>\n",
       "      <th>pct_1_or_more_dose_5</th>\n",
       "      <th>pct_full_faxed_5</th>\n",
       "      <th>voters_in_nov2020</th>\n",
       "      <th>tot_pop_2020</th>\n",
       "      <th>vacant_dummy</th>\n",
       "      <th>occupied_dummy</th>\n",
       "      <th>mean_hh_income_2019</th>\n",
       "      <th>count_hh_2019</th>\n",
       "      <th>survey_count</th>\n",
       "      <th>citizen_over_18</th>\n",
       "      <th>pop_2019</th>\n",
       "      <th>pop_lt_18</th>\n",
       "      <th>pop_gt_65</th>\n",
       "      <th>geometry_10</th>\n",
       "      <th>SVI_10</th>\n",
       "      <th>pct_1_or_more_dose_16_10</th>\n",
       "      <th>pct_full_vaxed_16_10</th>\n",
       "      <th>pct_1_or_more_dose_5_10</th>\n",
       "      <th>pct_full_faxed_5_10</th>\n",
       "      <th>vacant_dummy_10</th>\n",
       "      <th>occupied_dummy_10</th>\n",
       "      <th>count_hh_2019_10</th>\n",
       "      <th>mean_hh_income_2019_10</th>\n",
       "      <th>survey_count_10</th>\n",
       "      <th>citizen_over_18_10</th>\n",
       "      <th>pct_citizen_over_18</th>\n",
       "      <th>pop_2019_10</th>\n",
       "      <th>pop_lt_18_10</th>\n",
       "      <th>pct_lt_18</th>\n",
       "      <th>pop_gt_65_10</th>\n",
       "      <th>pct_gt_65</th>\n",
       "    </tr>\n",
       "  </thead>\n",
       "  <tbody>\n",
       "    <tr>\n",
       "      <th>4982</th>\n",
       "      <td>POLYGON ((-83.08942 42.41816, -83.08858 42.418...</td>\n",
       "      <td>5091</td>\n",
       "      <td>26.4</td>\n",
       "      <td>40.7</td>\n",
       "      <td>0.128205</td>\n",
       "      <td>0.217839</td>\n",
       "      <td>0.82855</td>\n",
       "      <td>0.646</td>\n",
       "      <td>0.5665</td>\n",
       "      <td>0.579</td>\n",
       "      <td>0.508</td>\n",
       "      <td>1366.0</td>\n",
       "      <td>4563.0</td>\n",
       "      <td>0.237515</td>\n",
       "      <td>0.755514</td>\n",
       "      <td>34788.0</td>\n",
       "      <td>1424.0</td>\n",
       "      <td>1386.0</td>\n",
       "      <td>2124.0</td>\n",
       "      <td>4771.0</td>\n",
       "      <td>1173.0</td>\n",
       "      <td>472.0</td>\n",
       "      <td>None</td>\n",
       "      <td>NaN</td>\n",
       "      <td>NaN</td>\n",
       "      <td>NaN</td>\n",
       "      <td>NaN</td>\n",
       "      <td>NaN</td>\n",
       "      <td>NaN</td>\n",
       "      <td>NaN</td>\n",
       "      <td>NaN</td>\n",
       "      <td>NaN</td>\n",
       "      <td>NaN</td>\n",
       "      <td>NaN</td>\n",
       "      <td>NaN</td>\n",
       "      <td>NaN</td>\n",
       "      <td>NaN</td>\n",
       "      <td>NaN</td>\n",
       "      <td>NaN</td>\n",
       "      <td>NaN</td>\n",
       "    </tr>\n",
       "  </tbody>\n",
       "</table>\n",
       "</div>"
      ],
      "text/plain": [
       "                                               geometry tract  \\\n",
       "4982  POLYGON ((-83.08942 42.41816, -83.08858 42.418...  5091   \n",
       "\n",
       "      internet_response_census  total_self_response_census  pct_white  \\\n",
       "4982                      26.4                        40.7   0.128205   \n",
       "\n",
       "      pct_black      SVI  pct_1_or_more_dose_16  pct_full_vaxed_16  \\\n",
       "4982   0.217839  0.82855                  0.646             0.5665   \n",
       "\n",
       "      pct_1_or_more_dose_5  pct_full_faxed_5  voters_in_nov2020  tot_pop_2020  \\\n",
       "4982                 0.579             0.508             1366.0        4563.0   \n",
       "\n",
       "      vacant_dummy  occupied_dummy  mean_hh_income_2019  count_hh_2019  \\\n",
       "4982      0.237515        0.755514              34788.0         1424.0   \n",
       "\n",
       "      survey_count  citizen_over_18  pop_2019  pop_lt_18  pop_gt_65  \\\n",
       "4982        1386.0           2124.0    4771.0     1173.0      472.0   \n",
       "\n",
       "     geometry_10  SVI_10 pct_1_or_more_dose_16_10 pct_full_vaxed_16_10  \\\n",
       "4982        None     NaN                      NaN                  NaN   \n",
       "\n",
       "     pct_1_or_more_dose_5_10 pct_full_faxed_5_10  vacant_dummy_10  \\\n",
       "4982                     NaN                 NaN              NaN   \n",
       "\n",
       "      occupied_dummy_10  count_hh_2019_10  mean_hh_income_2019_10  \\\n",
       "4982                NaN               NaN                     NaN   \n",
       "\n",
       "      survey_count_10  citizen_over_18_10  pct_citizen_over_18  pop_2019_10  \\\n",
       "4982              NaN                 NaN                  NaN          NaN   \n",
       "\n",
       "      pop_lt_18_10  pct_lt_18  pop_gt_65_10  pct_gt_65  \n",
       "4982           NaN        NaN           NaN        NaN  "
      ]
     },
     "execution_count": 107,
     "metadata": {},
     "output_type": "execute_result"
    }
   ],
   "source": [
    "tract_20_w_10_gdf_shp_w_10_nans[tract_20_w_10_gdf_shp_w_10_nans['tract']=='5091']"
   ]
  },
  {
   "cell_type": "code",
   "execution_count": 108,
   "metadata": {},
   "outputs": [
    {
     "name": "stderr",
     "output_type": "stream",
     "text": [
      "<ipython-input-108-a2e77c8e47ff>:1: SettingWithCopyWarning: \n",
      "A value is trying to be set on a copy of a slice from a DataFrame\n",
      "\n",
      "See the caveats in the documentation: https://pandas.pydata.org/pandas-docs/stable/user_guide/indexing.html#returning-a-view-versus-a-copy\n",
      "  tract_20_w_10_gdf_shp_w_10_nans['pct_1_or_more_dose_16'][tract_20_w_10_gdf_shp_w_10_nans['pct_1_or_more_dose_16'].isna()] = tract_20_w_10_gdf_shp_w_10_nans['pct_1_or_more_dose_16_10']\n",
      "<ipython-input-108-a2e77c8e47ff>:2: SettingWithCopyWarning: \n",
      "A value is trying to be set on a copy of a slice from a DataFrame\n",
      "\n",
      "See the caveats in the documentation: https://pandas.pydata.org/pandas-docs/stable/user_guide/indexing.html#returning-a-view-versus-a-copy\n",
      "  tract_20_w_10_gdf_shp_w_10_nans['pct_full_vaxed_16'][tract_20_w_10_gdf_shp_w_10_nans['pct_full_vaxed_16'].isna()] = tract_20_w_10_gdf_shp_w_10_nans['pct_full_vaxed_16_10']\n",
      "<ipython-input-108-a2e77c8e47ff>:3: SettingWithCopyWarning: \n",
      "A value is trying to be set on a copy of a slice from a DataFrame\n",
      "\n",
      "See the caveats in the documentation: https://pandas.pydata.org/pandas-docs/stable/user_guide/indexing.html#returning-a-view-versus-a-copy\n",
      "  tract_20_w_10_gdf_shp_w_10_nans['pct_1_or_more_dose_5'][tract_20_w_10_gdf_shp_w_10_nans['pct_1_or_more_dose_5'].isna()] = tract_20_w_10_gdf_shp_w_10_nans['pct_1_or_more_dose_5_10']\n",
      "<ipython-input-108-a2e77c8e47ff>:4: SettingWithCopyWarning: \n",
      "A value is trying to be set on a copy of a slice from a DataFrame\n",
      "\n",
      "See the caveats in the documentation: https://pandas.pydata.org/pandas-docs/stable/user_guide/indexing.html#returning-a-view-versus-a-copy\n",
      "  tract_20_w_10_gdf_shp_w_10_nans['pct_full_faxed_5'][tract_20_w_10_gdf_shp_w_10_nans['pct_full_faxed_5'].isna()] = tract_20_w_10_gdf_shp_w_10_nans['pct_full_faxed_5_10']\n",
      "<ipython-input-108-a2e77c8e47ff>:5: SettingWithCopyWarning: \n",
      "A value is trying to be set on a copy of a slice from a DataFrame\n",
      "\n",
      "See the caveats in the documentation: https://pandas.pydata.org/pandas-docs/stable/user_guide/indexing.html#returning-a-view-versus-a-copy\n",
      "  tract_20_w_10_gdf_shp_w_10_nans['citizen_over_18'][tract_20_w_10_gdf_shp_w_10_nans['citizen_over_18']==0] = tract_20_w_10_gdf_shp_w_10_nans['citizen_over_18_10']\n",
      "<ipython-input-108-a2e77c8e47ff>:6: SettingWithCopyWarning: \n",
      "A value is trying to be set on a copy of a slice from a DataFrame\n",
      "\n",
      "See the caveats in the documentation: https://pandas.pydata.org/pandas-docs/stable/user_guide/indexing.html#returning-a-view-versus-a-copy\n",
      "  tract_20_w_10_gdf_shp_w_10_nans['vacant_dummy'][tract_20_w_10_gdf_shp_w_10_nans['vacant_dummy'].isna()] = tract_20_w_10_gdf_shp_w_10_nans['vacant_dummy_10']\n",
      "<ipython-input-108-a2e77c8e47ff>:7: SettingWithCopyWarning: \n",
      "A value is trying to be set on a copy of a slice from a DataFrame\n",
      "\n",
      "See the caveats in the documentation: https://pandas.pydata.org/pandas-docs/stable/user_guide/indexing.html#returning-a-view-versus-a-copy\n",
      "  tract_20_w_10_gdf_shp_w_10_nans['occupied_dummy'][tract_20_w_10_gdf_shp_w_10_nans['occupied_dummy'].isna()] = tract_20_w_10_gdf_shp_w_10_nans['occupied_dummy_10']\n",
      "<ipython-input-108-a2e77c8e47ff>:8: SettingWithCopyWarning: \n",
      "A value is trying to be set on a copy of a slice from a DataFrame\n",
      "\n",
      "See the caveats in the documentation: https://pandas.pydata.org/pandas-docs/stable/user_guide/indexing.html#returning-a-view-versus-a-copy\n",
      "  tract_20_w_10_gdf_shp_w_10_nans['mean_hh_income_2019'][tract_20_w_10_gdf_shp_w_10_nans['mean_hh_income_2019'].isna()] = tract_20_w_10_gdf_shp_w_10_nans['mean_hh_income_2019_10']\n",
      "<ipython-input-108-a2e77c8e47ff>:9: SettingWithCopyWarning: \n",
      "A value is trying to be set on a copy of a slice from a DataFrame\n",
      "\n",
      "See the caveats in the documentation: https://pandas.pydata.org/pandas-docs/stable/user_guide/indexing.html#returning-a-view-versus-a-copy\n",
      "  tract_20_w_10_gdf_shp_w_10_nans['count_hh_2019'][tract_20_w_10_gdf_shp_w_10_nans['count_hh_2019']==0] = tract_20_w_10_gdf_shp_w_10_nans['count_hh_2019_10']\n",
      "<ipython-input-108-a2e77c8e47ff>:10: SettingWithCopyWarning: \n",
      "A value is trying to be set on a copy of a slice from a DataFrame\n",
      "\n",
      "See the caveats in the documentation: https://pandas.pydata.org/pandas-docs/stable/user_guide/indexing.html#returning-a-view-versus-a-copy\n",
      "  tract_20_w_10_gdf_shp_w_10_nans['survey_count'][tract_20_w_10_gdf_shp_w_10_nans['survey_count']==0] = tract_20_w_10_gdf_shp_w_10_nans['survey_count_10']\n",
      "<ipython-input-108-a2e77c8e47ff>:11: SettingWithCopyWarning: \n",
      "A value is trying to be set on a copy of a slice from a DataFrame\n",
      "\n",
      "See the caveats in the documentation: https://pandas.pydata.org/pandas-docs/stable/user_guide/indexing.html#returning-a-view-versus-a-copy\n",
      "  tract_20_w_10_gdf_shp_w_10_nans['pop_2019'][tract_20_w_10_gdf_shp_w_10_nans['pop_2019']==0] = tract_20_w_10_gdf_shp_w_10_nans['pop_2019']\n",
      "<ipython-input-108-a2e77c8e47ff>:12: SettingWithCopyWarning: \n",
      "A value is trying to be set on a copy of a slice from a DataFrame\n",
      "\n",
      "See the caveats in the documentation: https://pandas.pydata.org/pandas-docs/stable/user_guide/indexing.html#returning-a-view-versus-a-copy\n",
      "  tract_20_w_10_gdf_shp_w_10_nans['pop_lt_18'][tract_20_w_10_gdf_shp_w_10_nans['pop_lt_18']==0] = tract_20_w_10_gdf_shp_w_10_nans['pop_lt_18']\n",
      "<ipython-input-108-a2e77c8e47ff>:13: SettingWithCopyWarning: \n",
      "A value is trying to be set on a copy of a slice from a DataFrame\n",
      "\n",
      "See the caveats in the documentation: https://pandas.pydata.org/pandas-docs/stable/user_guide/indexing.html#returning-a-view-versus-a-copy\n",
      "  tract_20_w_10_gdf_shp_w_10_nans['pop_gt_65'][tract_20_w_10_gdf_shp_w_10_nans['pop_gt_65']==0] = tract_20_w_10_gdf_shp_w_10_nans['pop_gt_65']\n"
     ]
    }
   ],
   "source": [
    "tract_20_w_10_gdf_shp_w_10_nans['pct_1_or_more_dose_16'][tract_20_w_10_gdf_shp_w_10_nans['pct_1_or_more_dose_16'].isna()] = tract_20_w_10_gdf_shp_w_10_nans['pct_1_or_more_dose_16_10']\n",
    "tract_20_w_10_gdf_shp_w_10_nans['pct_full_vaxed_16'][tract_20_w_10_gdf_shp_w_10_nans['pct_full_vaxed_16'].isna()] = tract_20_w_10_gdf_shp_w_10_nans['pct_full_vaxed_16_10']\n",
    "tract_20_w_10_gdf_shp_w_10_nans['pct_1_or_more_dose_5'][tract_20_w_10_gdf_shp_w_10_nans['pct_1_or_more_dose_5'].isna()] = tract_20_w_10_gdf_shp_w_10_nans['pct_1_or_more_dose_5_10']\n",
    "tract_20_w_10_gdf_shp_w_10_nans['pct_full_faxed_5'][tract_20_w_10_gdf_shp_w_10_nans['pct_full_faxed_5'].isna()] = tract_20_w_10_gdf_shp_w_10_nans['pct_full_faxed_5_10']\n",
    "tract_20_w_10_gdf_shp_w_10_nans['citizen_over_18'][tract_20_w_10_gdf_shp_w_10_nans['citizen_over_18']==0] = tract_20_w_10_gdf_shp_w_10_nans['citizen_over_18_10']\n",
    "tract_20_w_10_gdf_shp_w_10_nans['vacant_dummy'][tract_20_w_10_gdf_shp_w_10_nans['vacant_dummy'].isna()] = tract_20_w_10_gdf_shp_w_10_nans['vacant_dummy_10']\n",
    "tract_20_w_10_gdf_shp_w_10_nans['occupied_dummy'][tract_20_w_10_gdf_shp_w_10_nans['occupied_dummy'].isna()] = tract_20_w_10_gdf_shp_w_10_nans['occupied_dummy_10']\n",
    "tract_20_w_10_gdf_shp_w_10_nans['mean_hh_income_2019'][tract_20_w_10_gdf_shp_w_10_nans['mean_hh_income_2019'].isna()] = tract_20_w_10_gdf_shp_w_10_nans['mean_hh_income_2019_10']\n",
    "tract_20_w_10_gdf_shp_w_10_nans['count_hh_2019'][tract_20_w_10_gdf_shp_w_10_nans['count_hh_2019']==0] = tract_20_w_10_gdf_shp_w_10_nans['count_hh_2019_10']\n",
    "tract_20_w_10_gdf_shp_w_10_nans['survey_count'][tract_20_w_10_gdf_shp_w_10_nans['survey_count']==0] = tract_20_w_10_gdf_shp_w_10_nans['survey_count_10']\n",
    "tract_20_w_10_gdf_shp_w_10_nans['pop_2019'][tract_20_w_10_gdf_shp_w_10_nans['pop_2019']==0] = tract_20_w_10_gdf_shp_w_10_nans['pop_2019']\n",
    "tract_20_w_10_gdf_shp_w_10_nans['pop_lt_18'][tract_20_w_10_gdf_shp_w_10_nans['pop_lt_18']==0] = tract_20_w_10_gdf_shp_w_10_nans['pop_lt_18']\n",
    "tract_20_w_10_gdf_shp_w_10_nans['pop_gt_65'][tract_20_w_10_gdf_shp_w_10_nans['pop_gt_65']==0] = tract_20_w_10_gdf_shp_w_10_nans['pop_gt_65']"
   ]
  },
  {
   "cell_type": "code",
   "execution_count": 109,
   "metadata": {},
   "outputs": [],
   "source": [
    "### pct voted\n",
    "tract_20_w_10_gdf_shp_w_10_nans['pct_voted_nov2020'] = tract_20_w_10_gdf_shp_w_10_nans['voters_in_nov2020'] / tract_20_w_10_gdf_shp_w_10_nans['citizen_over_18']"
   ]
  },
  {
   "cell_type": "code",
   "execution_count": 110,
   "metadata": {},
   "outputs": [],
   "source": [
    "tract_20_w_10_gdf_shp_w_10_nans['survey_count'] = tract_20_w_10_gdf_shp_w_10_nans['survey_count'].fillna(0)"
   ]
  },
  {
   "cell_type": "code",
   "execution_count": 111,
   "metadata": {},
   "outputs": [],
   "source": [
    "tract_20_w_10_gdf_shp_w_10_nans['pct_lt_18'] = tract_20_w_10_gdf_shp_w_10_nans['pop_lt_18'] / tract_20_w_10_gdf_shp_w_10_nans['pop_2019']\n",
    "tract_20_w_10_gdf_shp_w_10_nans['pct_gt_65'] = tract_20_w_10_gdf_shp_w_10_nans['pop_gt_65'] / tract_20_w_10_gdf_shp_w_10_nans['pop_2019']"
   ]
  },
  {
   "cell_type": "code",
   "execution_count": 112,
   "metadata": {},
   "outputs": [],
   "source": [
    "tract_20_w_10_gdf_shp_w_10_nans.drop(['geometry_10', \n",
    "                                      'SVI_10', 'vacant_dummy_10', 'occupied_dummy_10',\\\n",
    "                                      'count_hh_2019_10', 'mean_hh_income_2019_10', 'survey_count_10',\\\n",
    "                                     'pct_citizen_over_18', 'citizen_over_18_10', 'pop_lt_18', 'pop_2019',\\\n",
    "                                     'pop_gt_65'], axis=1, inplace=True)"
   ]
  },
  {
   "cell_type": "markdown",
   "metadata": {},
   "source": [
    "## Look at correlation matrix\n",
    "- where did all of these come from...?"
   ]
  },
  {
   "cell_type": "code",
   "execution_count": 113,
   "metadata": {},
   "outputs": [],
   "source": [
    "feature_list = ['tot_pop_2020',\\\n",
    "                     'SVI', 'pct_full_vaxed_16', 'pct_full_faxed_5',\\\n",
    "                     'vacant_dummy', 'occupied_dummy', 'count_hh_2019',\\\n",
    "                     'mean_hh_income_2019', 'internet_response_census', \\\n",
    "                     'total_self_response_census', 'survey_count', \\\n",
    "                'pct_white', 'pct_black', 'pct_voted_nov2020',\\\n",
    "               'citizen_over_18', 'pct_lt_18', 'pct_gt_65']"
   ]
  },
  {
   "cell_type": "code",
   "execution_count": 114,
   "metadata": {},
   "outputs": [
    {
     "data": {
      "text/plain": [
       "<matplotlib.axes._subplots.AxesSubplot at 0x7fd1f270dac0>"
      ]
     },
     "execution_count": 114,
     "metadata": {},
     "output_type": "execute_result"
    },
    {
     "data": {
      "image/png": "[encoded data removed]",
      "text/plain": [
       "<Figure size 864x864 with 2 Axes>"
      ]
     },
     "metadata": {
      "needs_background": "light"
     },
     "output_type": "display_data"
    }
   ],
   "source": [
    "#output map\n",
    "f, ax = plt.subplots(figsize=(12,12))\n",
    "ax.get_xaxis().set_visible(True)\n",
    "ax.get_yaxis().set_visible(True)\n",
    "\n",
    "for item in ([ax.title, ax.xaxis.label, ax.yaxis.label] +\n",
    "             ax.get_xticklabels() + ax.get_yticklabels()):\n",
    "    item.set_fontsize(15)\n",
    "\n",
    "\n",
    "sns.heatmap(tract_20_w_10_gdf_shp_w_10_nans[feature_list].corr(), annot=True, ax=ax)"
   ]
  },
  {
   "cell_type": "markdown",
   "metadata": {},
   "source": [
    "## \"Civic Participation\" Metric\n",
    "- z(vax) + z(voter) + z(census) + z(pop)"
   ]
  },
  {
   "cell_type": "code",
   "execution_count": 115,
   "metadata": {},
   "outputs": [],
   "source": [
    "### essentially, subset to just detroit CTs\n",
    "tract_20_w_10_gdf_shp_detroit = tract_20_w_10_gdf_shp_w_10_nans[tract_20_w_10_gdf_shp_w_10_nans['pct_black']>=0]\n",
    "### remove nas\n",
    "tract_20_w_10_gdf_shp_detroit = tract_20_w_10_gdf_shp_detroit[~tract_20_w_10_gdf_shp_detroit['SVI'].isna()]"
   ]
  },
  {
   "cell_type": "code",
   "execution_count": 116,
   "metadata": {},
   "outputs": [],
   "source": [
    "# now iterate over the remaining columns and create a new zscore column\n",
    "zscore_cols = ['pct_full_faxed_5', 'pct_voted_nov2020', 'total_self_response_census', 'tot_pop_2020']\n",
    "for col in zscore_cols:\n",
    "    col_zscore = col + '_zscore'\n",
    "    tract_20_w_10_gdf_shp_detroit[col_zscore] = \\\n",
    "    (tract_20_w_10_gdf_shp_detroit[col] - tract_20_w_10_gdf_shp_detroit[col].mean())/\\\n",
    "    tract_20_w_10_gdf_shp_detroit[col].std(ddof=0)"
   ]
  },
  {
   "cell_type": "code",
   "execution_count": 117,
   "metadata": {},
   "outputs": [],
   "source": [
    "tract_20_w_10_gdf_shp_detroit_final = tract_20_w_10_gdf_shp_detroit[['geometry', 'tract', 'pct_full_faxed_5', 'pct_voted_nov2020', 'total_self_response_census', 'tot_pop_2020',\\\n",
    "                                                                    'pct_full_faxed_5_zscore', 'pct_voted_nov2020_zscore', 'total_self_response_census_zscore', 'tot_pop_2020_zscore']]"
   ]
  },
  {
   "cell_type": "code",
   "execution_count": 118,
   "metadata": {},
   "outputs": [],
   "source": [
    "tract_20_w_10_gdf_shp_detroit_final.columns = ['geometry', 'tract', 'pct_vax5', 'pct_vote', 'pct_census', 'population', 'pct_vax5_z', 'pct_vote_z', 'pct_census_z', 'population_z']"
   ]
  },
  {
   "cell_type": "code",
   "execution_count": 119,
   "metadata": {},
   "outputs": [],
   "source": [
    "tract_20_w_10_gdf_shp_detroit_final.to_file('../data/tract_20_w_10_gdf_shp_detroit.shp')"
   ]
  },
  {
   "cell_type": "markdown",
   "metadata": {},
   "source": [
    "## Regression predicting civic participation vs income / pop density / % black\n",
    "- education?"
   ]
  },
  {
   "cell_type": "code",
   "execution_count": 120,
   "metadata": {},
   "outputs": [
    {
     "name": "stdout",
     "output_type": "stream",
     "text": [
      "epsg:4269\n",
      "+init=epsg:3857 +type=crs\n"
     ]
    },
    {
     "name": "stderr",
     "output_type": "stream",
     "text": [
      "/Users/geoffperrin/opt/anaconda3/lib/python3.8/site-packages/pyproj/crs/crs.py:53: FutureWarning: '+init=<authority>:<code>' syntax is deprecated. '<authority>:<code>' is the preferred initialization method. When making the change, be mindful of axis order changes: https://pyproj4.github.io/pyproj/stable/gotchas.html#axis-order-changes-in-proj-6\n",
      "  return _prepare_from_string(\" \".join(pjargs))\n"
     ]
    }
   ],
   "source": [
    "tract_20_w_10_gdf_shp_detroit_copy = tract_20_w_10_gdf_shp_detroit.copy()\n",
    "print(tract_20_w_10_gdf_shp_detroit_copy.crs)\n",
    "tract_20_w_10_gdf_shp_detroit_copy= tract_20_w_10_gdf_shp_detroit_copy.to_crs({'init': 'epsg:3857'})\n",
    "print(tract_20_w_10_gdf_shp_detroit_copy.crs)"
   ]
  },
  {
   "cell_type": "code",
   "execution_count": 121,
   "metadata": {},
   "outputs": [],
   "source": [
    "tract_20_w_10_gdf_shp_detroit_copy[\"area_km2\"] = tract_20_w_10_gdf_shp_detroit_copy['geometry'].area/ 10**6\n"
   ]
  },
  {
   "cell_type": "code",
   "execution_count": 122,
   "metadata": {},
   "outputs": [],
   "source": [
    "tract_20_w_10_gdf_shp_detroit_copy['pop_density_2020'] = tract_20_w_10_gdf_shp_detroit_copy['tot_pop_2020'] / tract_20_w_10_gdf_shp_detroit_copy['area_km2']"
   ]
  },
  {
   "cell_type": "code",
   "execution_count": 123,
   "metadata": {},
   "outputs": [],
   "source": [
    "tract_20_w_10_gdf_shp_detroit_copy['civic_participation_score'] = tract_20_w_10_gdf_shp_detroit_copy['pct_full_faxed_5_zscore'] +\\\n",
    "                                                                  tract_20_w_10_gdf_shp_detroit_copy['pct_voted_nov2020_zscore'] +\\\n",
    "                                                                  tract_20_w_10_gdf_shp_detroit_copy['total_self_response_census_zscore']\n"
   ]
  },
  {
   "cell_type": "code",
   "execution_count": 124,
   "metadata": {},
   "outputs": [
    {
     "data": {
      "text/html": [
       "<table class=\"simpletable\">\n",
       "<caption>OLS Regression Results</caption>\n",
       "<tr>\n",
       "  <th>Dep. Variable:</th>    <td>civic_participation_score</td> <th>  R-squared (uncentered):</th>      <td>   0.226</td>\n",
       "</tr>\n",
       "<tr>\n",
       "  <th>Model:</th>                       <td>OLS</td>            <th>  Adj. R-squared (uncentered):</th> <td>   0.211</td>\n",
       "</tr>\n",
       "<tr>\n",
       "  <th>Method:</th>                 <td>Least Squares</td>       <th>  F-statistic:       </th>          <td>   15.32</td>\n",
       "</tr>\n",
       "<tr>\n",
       "  <th>Date:</th>                 <td>Thu, 10 Feb 2022</td>      <th>  Prob (F-statistic):</th>          <td>3.27e-13</td>\n",
       "</tr>\n",
       "<tr>\n",
       "  <th>Time:</th>                     <td>09:56:45</td>          <th>  Log-Likelihood:    </th>          <td> -561.76</td>\n",
       "</tr>\n",
       "<tr>\n",
       "  <th>No. Observations:</th>          <td>   267</td>           <th>  AIC:               </th>          <td>   1134.</td>\n",
       "</tr>\n",
       "<tr>\n",
       "  <th>Df Residuals:</th>              <td>   262</td>           <th>  BIC:               </th>          <td>   1151.</td>\n",
       "</tr>\n",
       "<tr>\n",
       "  <th>Df Model:</th>                  <td>     5</td>           <th>                     </th>              <td> </td>   \n",
       "</tr>\n",
       "<tr>\n",
       "  <th>Covariance Type:</th>          <td>nonrobust</td>         <th>                     </th>              <td> </td>   \n",
       "</tr>\n",
       "</table>\n",
       "<table class=\"simpletable\">\n",
       "<tr>\n",
       "           <td></td>              <th>coef</th>     <th>std err</th>      <th>t</th>      <th>P>|t|</th>  <th>[0.025</th>    <th>0.975]</th>  \n",
       "</tr>\n",
       "<tr>\n",
       "  <th>pct_lt_18</th>           <td>   -8.5796</td> <td>    1.286</td> <td>   -6.673</td> <td> 0.000</td> <td>  -11.111</td> <td>   -6.048</td>\n",
       "</tr>\n",
       "<tr>\n",
       "  <th>mean_hh_income_2019</th> <td> 3.338e-05</td> <td>  6.8e-06</td> <td>    4.911</td> <td> 0.000</td> <td>    2e-05</td> <td> 4.68e-05</td>\n",
       "</tr>\n",
       "<tr>\n",
       "  <th>pct_black</th>           <td>    0.0512</td> <td>    0.486</td> <td>    0.105</td> <td> 0.916</td> <td>   -0.906</td> <td>    1.009</td>\n",
       "</tr>\n",
       "<tr>\n",
       "  <th>pct_gt_65</th>           <td>    0.8654</td> <td>    2.301</td> <td>    0.376</td> <td> 0.707</td> <td>   -3.666</td> <td>    5.397</td>\n",
       "</tr>\n",
       "<tr>\n",
       "  <th>pop_density_2020</th>    <td>    0.0005</td> <td>    0.000</td> <td>    2.359</td> <td> 0.019</td> <td> 8.26e-05</td> <td>    0.001</td>\n",
       "</tr>\n",
       "</table>\n",
       "<table class=\"simpletable\">\n",
       "<tr>\n",
       "  <th>Omnibus:</th>       <td>16.390</td> <th>  Durbin-Watson:     </th> <td>   1.738</td>\n",
       "</tr>\n",
       "<tr>\n",
       "  <th>Prob(Omnibus):</th> <td> 0.000</td> <th>  Jarque-Bera (JB):  </th> <td>  20.635</td>\n",
       "</tr>\n",
       "<tr>\n",
       "  <th>Skew:</th>          <td>-0.481</td> <th>  Prob(JB):          </th> <td>3.31e-05</td>\n",
       "</tr>\n",
       "<tr>\n",
       "  <th>Kurtosis:</th>      <td> 3.964</td> <th>  Cond. No.          </th> <td>8.87e+05</td>\n",
       "</tr>\n",
       "</table><br/><br/>Warnings:<br/>[1] Standard Errors assume that the covariance matrix of the errors is correctly specified.<br/>[2] The condition number is large, 8.87e+05. This might indicate that there are<br/>strong multicollinearity or other numerical problems."
      ],
      "text/plain": [
       "<class 'statsmodels.iolib.summary.Summary'>\n",
       "\"\"\"\n",
       "                                    OLS Regression Results                                    \n",
       "==============================================================================================\n",
       "Dep. Variable:     civic_participation_score   R-squared (uncentered):                   0.226\n",
       "Model:                                   OLS   Adj. R-squared (uncentered):              0.211\n",
       "Method:                        Least Squares   F-statistic:                              15.32\n",
       "Date:                       Thu, 10 Feb 2022   Prob (F-statistic):                    3.27e-13\n",
       "Time:                               09:56:45   Log-Likelihood:                         -561.76\n",
       "No. Observations:                        267   AIC:                                      1134.\n",
       "Df Residuals:                            262   BIC:                                      1151.\n",
       "Df Model:                                  5                                                  \n",
       "Covariance Type:                   nonrobust                                                  \n",
       "=======================================================================================\n",
       "                          coef    std err          t      P>|t|      [0.025      0.975]\n",
       "---------------------------------------------------------------------------------------\n",
       "pct_lt_18              -8.5796      1.286     -6.673      0.000     -11.111      -6.048\n",
       "mean_hh_income_2019  3.338e-05    6.8e-06      4.911      0.000       2e-05    4.68e-05\n",
       "pct_black               0.0512      0.486      0.105      0.916      -0.906       1.009\n",
       "pct_gt_65               0.8654      2.301      0.376      0.707      -3.666       5.397\n",
       "pop_density_2020        0.0005      0.000      2.359      0.019    8.26e-05       0.001\n",
       "==============================================================================\n",
       "Omnibus:                       16.390   Durbin-Watson:                   1.738\n",
       "Prob(Omnibus):                  0.000   Jarque-Bera (JB):               20.635\n",
       "Skew:                          -0.481   Prob(JB):                     3.31e-05\n",
       "Kurtosis:                       3.964   Cond. No.                     8.87e+05\n",
       "==============================================================================\n",
       "\n",
       "Warnings:\n",
       "[1] Standard Errors assume that the covariance matrix of the errors is correctly specified.\n",
       "[2] The condition number is large, 8.87e+05. This might indicate that there are\n",
       "strong multicollinearity or other numerical problems.\n",
       "\"\"\""
      ]
     },
     "execution_count": 124,
     "metadata": {},
     "output_type": "execute_result"
    }
   ],
   "source": [
    "### put together X and y for regression\n",
    "y = tract_20_w_10_gdf_shp_detroit_copy.civic_participation_score\n",
    "### get list of all new dummy columns and all other columns of interest\n",
    "X_columns = ['pct_lt_18', 'mean_hh_income_2019', 'pct_black', 'pct_gt_65', 'pop_density_2020']\n",
    "X = tract_20_w_10_gdf_shp_detroit_copy[X_columns]\n",
    "\n",
    "### fit linear regression to X and y (not x train and y train)\n",
    "model = sm.OLS(y.astype(float), X.astype(float)).fit()\n",
    "predictions = model.predict(X) # make the predictions by the model\n",
    "\n",
    "# Print out the statistics\n",
    "model.summary()"
   ]
  },
  {
   "cell_type": "code",
   "execution_count": 125,
   "metadata": {},
   "outputs": [
    {
     "name": "stdout",
     "output_type": "stream",
     "text": [
      "2.085274160160414\n",
      "2.396969378562726\n"
     ]
    },
    {
     "data": {
      "text/html": [
       "<div>\n",
       "<style scoped>\n",
       "    .dataframe tbody tr th:only-of-type {\n",
       "        vertical-align: middle;\n",
       "    }\n",
       "\n",
       "    .dataframe tbody tr th {\n",
       "        vertical-align: top;\n",
       "    }\n",
       "\n",
       "    .dataframe thead th {\n",
       "        text-align: right;\n",
       "    }\n",
       "</style>\n",
       "<table border=\"1\" class=\"dataframe\">\n",
       "  <thead>\n",
       "    <tr style=\"text-align: right;\">\n",
       "      <th></th>\n",
       "      <th>variables</th>\n",
       "      <th>importance</th>\n",
       "    </tr>\n",
       "  </thead>\n",
       "  <tbody>\n",
       "    <tr>\n",
       "      <th>0</th>\n",
       "      <td>mean_hh_income_2019</td>\n",
       "      <td>0.346649</td>\n",
       "    </tr>\n",
       "    <tr>\n",
       "      <th>1</th>\n",
       "      <td>pop_density_2020</td>\n",
       "      <td>0.23774</td>\n",
       "    </tr>\n",
       "    <tr>\n",
       "      <th>2</th>\n",
       "      <td>pct_gt_65</td>\n",
       "      <td>0.187309</td>\n",
       "    </tr>\n",
       "    <tr>\n",
       "      <th>3</th>\n",
       "      <td>pct_black</td>\n",
       "      <td>0.136076</td>\n",
       "    </tr>\n",
       "    <tr>\n",
       "      <th>4</th>\n",
       "      <td>pct_lt_18</td>\n",
       "      <td>0.0922264</td>\n",
       "    </tr>\n",
       "  </tbody>\n",
       "</table>\n",
       "</div>"
      ],
      "text/plain": [
       "             variables importance\n",
       "0  mean_hh_income_2019   0.346649\n",
       "1     pop_density_2020    0.23774\n",
       "2            pct_gt_65   0.187309\n",
       "3            pct_black   0.136076\n",
       "4            pct_lt_18  0.0922264"
      ]
     },
     "execution_count": 125,
     "metadata": {},
     "output_type": "execute_result"
    }
   ],
   "source": [
    "### put together random forest model\n",
    "y = tract_20_w_10_gdf_shp_detroit_copy.civic_participation_score\n",
    "### get list of all new dummy columns and all other columns of interest\n",
    "X_columns = ['pct_lt_18', 'mean_hh_income_2019', 'pct_black', 'pct_gt_65', 'pop_density_2020']\n",
    "X = tract_20_w_10_gdf_shp_detroit_copy[X_columns]\n",
    "\n",
    "X_train, X_test, y_train, y_test = train_test_split(X, y, test_size=0.3, random_state=42)\n",
    "# use random forest to predict vacant_dummy\n",
    "r_tree = RandomForestRegressor()\n",
    "r_tree_tuned_vacant = GridSearchCV(r_tree, rf_param_grid)\n",
    "r_tree_tuned_vacant.fit(X_train, y_train)\n",
    "#explore feature importance\n",
    "feature_importance = r_tree_tuned_vacant.best_estimator_.fit(X_train, y_train).feature_importances_\n",
    "Feature_importance_df = pd.DataFrame([list(X_train.columns), list(feature_importance)]).T\n",
    "Feature_importance_df.columns = [\"variables\", \"importance\"]\n",
    "Feature_importance_df.sort_values(by=\"importance\", ascending=False, inplace=True)\n",
    "Feature_importance_df.reset_index(inplace=True)\n",
    "Feature_importance_df.drop(u'index', axis=1, inplace=True)\n",
    "\n",
    "#run accuracy metrics\n",
    "predictions_rf = r_tree_tuned_vacant.predict(X_test)\n",
    "#RMSE\n",
    "print(mean_squared_error(y_test, predictions_rf)**0.5)\n",
    "print(y_test.std())\n",
    "\n",
    "Feature_importance_df"
   ]
  },
  {
   "cell_type": "code",
   "execution_count": 126,
   "metadata": {},
   "outputs": [
    {
     "name": "stdout",
     "output_type": "stream",
     "text": [
      "2.1738418293644894\n",
      "2.396969378562726\n"
     ]
    }
   ],
   "source": [
    "### fit linear regression to X and y (not x train and y train)\n",
    "model = sm.OLS(y_train.astype(float), X_train.astype(float)).fit()\n",
    "predictions_lr = model.predict(X_test) # make the predictions by the model\n",
    "\n",
    "#RMSE\n",
    "print(mean_squared_error(y_test, predictions_lr)**0.5)\n",
    "print(y_test.std())"
   ]
  },
  {
   "cell_type": "code",
   "execution_count": 127,
   "metadata": {},
   "outputs": [],
   "source": [
    "tract_20_w_10_gdf_shp_detroit_copy['civic_participation_y_hat'] = predictions"
   ]
  },
  {
   "cell_type": "code",
   "execution_count": 128,
   "metadata": {},
   "outputs": [],
   "source": [
    "tract_20_w_10_gdf_shp_detroit_copy['civic_participation_residual'] = tract_20_w_10_gdf_shp_detroit_copy['civic_participation_score'] - tract_20_w_10_gdf_shp_detroit_copy['civic_participation_y_hat']"
   ]
  },
  {
   "cell_type": "code",
   "execution_count": 129,
   "metadata": {},
   "outputs": [],
   "source": [
    "tract_20_w_10_gdf_shp_detroit_copy = tract_20_w_10_gdf_shp_detroit_copy[['geometry', 'tract', 'pct_full_faxed_5', 'pct_voted_nov2020', 'total_self_response_census', 'tot_pop_2020',\\\n",
    "                                                                    'pct_full_faxed_5_zscore', 'pct_voted_nov2020_zscore', 'total_self_response_census_zscore', 'tot_pop_2020_zscore',\n",
    "                                                                    'pop_density_2020', 'mean_hh_income_2019', 'pct_black', \\\n",
    "                                                                    'pct_lt_18', 'pct_gt_65', 'civic_participation_score', 'civic_participation_y_hat', 'civic_participation_residual']]\n",
    "tract_20_w_10_gdf_shp_detroit_copy.columns = ['geometry', 'tract', 'pct_vax', 'pct_vote', 'pct_census', 'pop', 'pct_vax_z', 'pct_vote_z', 'pct_census_z', 'pop_z',\n",
    "                                              'pop_density', 'income', 'pct_black', 'pct_lt_18', 'pct_gt_65', 'score', 'score_predicty', 'score_residual']"
   ]
  },
  {
   "cell_type": "code",
   "execution_count": 130,
   "metadata": {},
   "outputs": [],
   "source": [
    "tract_20_w_10_gdf_shp_detroit_copy.to_file('../data/tract_20_w_10_gdf_shp_detroit_w_regression.shp')"
   ]
  },
  {
   "cell_type": "code",
   "execution_count": null,
   "metadata": {},
   "outputs": [],
   "source": []
  }
 ],
 "metadata": {
  "kernelspec": {
   "display_name": "Python 3",
   "language": "python",
   "name": "python3"
  },
  "language_info": {
   "codemirror_mode": {
    "name": "ipython",
    "version": 3
   },
   "file_extension": ".py",
   "mimetype": "text/x-python",
   "name": "python",
   "nbconvert_exporter": "python",
   "pygments_lexer": "ipython3",
   "version": "3.8.3"
  }
 },
 "nbformat": 4,
 "nbformat_minor": 4
}
